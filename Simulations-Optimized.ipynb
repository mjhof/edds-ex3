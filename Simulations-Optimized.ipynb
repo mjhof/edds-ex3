{
 "cells": [
  {
   "cell_type": "markdown",
   "metadata": {},
   "source": [
    "# Simulations"
   ]
  },
  {
   "cell_type": "code",
   "execution_count": 1,
   "metadata": {
    "ExecuteTime": {
     "end_time": "2021-01-22T14:27:33.576637Z",
     "start_time": "2021-01-22T14:27:32.920117Z"
    }
   },
   "outputs": [],
   "source": [
    "import numpy as np\n",
    "import scipy as sp\n",
    "import pandas as pd\n",
    "import matplotlib.pyplot as plt\n",
    "from scipy import stats\n",
    "#import sys\n",
    "#sys.path.append('../')\n",
    "#import src as my\n",
    "#from src.visualization import visualizeX\n",
    "#from src.MarkovModel import MarkovModel\n",
    "#import importlib\n",
    "#importlib.reload(my)\n",
    "#importlib.reload(my.common_stat)\n",
    "#importlib.reload(my.analysis)\n",
    "from IPython.display import clear_output\n",
    "import os.path\n"
   ]
  },
  {
   "cell_type": "markdown",
   "metadata": {},
   "source": [
    "## Algorithms"
   ]
  },
  {
   "cell_type": "code",
   "execution_count": 2,
   "metadata": {
    "ExecuteTime": {
     "end_time": "2021-01-22T14:27:33.586202Z",
     "start_time": "2021-01-22T14:27:33.579681Z"
    }
   },
   "outputs": [],
   "source": [
    "def compute_flight_metric(data, \n",
    "                            selected_rows = None,\n",
    "                            flight = 'flight',\n",
    "                            muid = 'RAWMUID',\n",
    "                            seg = 'Segment',\n",
    "                            metric = 'metric',\n",
    "                            metric_type = 'single average'):\n",
    "    ''' \n",
    "    compute metric aggregrate for each flight\n",
    "    \n",
    "    Args:\n",
    "        data          - the pandas dataframe [RAWMUID, Segment, flight, metric]    \n",
    "        selected_rows - a series that shows what rows are selected.\n",
    "        flight        - flight column name\n",
    "        muid          - muid column name\n",
    "        seg           - segment column name\n",
    "        metric        - metric column name\n",
    "        metric_type   - string, sum, single average, double average, or proportion\n",
    "    Returns:\n",
    "        out           - dataframe [flight, metric_name]\n",
    "    '''\n",
    "    if flight not in data.columns or \\\n",
    "        muid not in data.columns or \\\n",
    "        seg not in data.columns or \\\n",
    "        metric not in data.columns:\n",
    "        raise ValueError('flight/muid/seg/metric is not found in data.columns')\n",
    "    if selected_rows is not None:\n",
    "        filtered = data[selected_rows]\n",
    "    else:\n",
    "        filtered = data\n",
    "    if metric_type == 'sum':\n",
    "        prepare = filtered.groupby([muid, flight])[metric].sum().reset_index()\n",
    "        out = prepare.groupby(flight)[metric].mean().to_frame('metric sum').reset_index()\n",
    "    elif metric_type == 'single average':\n",
    "        k = len(np.unique(filtered[seg]))\n",
    "        prepare = (filtered.groupby([muid, flight])[metric].sum() / k).reset_index()\n",
    "        out = prepare.groupby(flight)[metric].mean().to_frame('metric single average').reset_index()\n",
    "    elif metric_type == 'double average':\n",
    "        prepare = filtered.groupby([muid, flight])[metric].mean().reset_index()\n",
    "        out = prepare.groupby(flight)[metric].mean().to_frame('metric double average').reset_index()\n",
    "    elif metric_type == 'proportion':\n",
    "        prepare = ((filtered.groupby([muid, flight])[metric].mean() > 0) * 1).reset_index()\n",
    "        out = prepare.groupby(flight)[metric].mean().to_frame('metric proportion').reset_index()\n",
    "    else:\n",
    "        raise ValueError('metric type (%s) not allowed.'%metric_type)\n",
    "    return out"
   ]
  },
  {
   "cell_type": "code",
   "execution_count": 3,
   "metadata": {
    "ExecuteTime": {
     "end_time": "2021-01-22T14:27:33.605449Z",
     "start_time": "2021-01-22T14:27:33.589783Z"
    }
   },
   "outputs": [],
   "source": [
    "def naive_continuous_analysis(data, \n",
    "                              treat_flight,\n",
    "                              control_flight,\n",
    "                              metric_type = 'single average',\n",
    "                              difference = 'delta'):\n",
    "    '''\n",
    "    Compute the naive continuous analysis\n",
    "    Args:\n",
    "        data   - dataframe\n",
    "        treat_flight - string, treat flight name\n",
    "        control_flight - string, control flight name\n",
    "        metric_type - string, the metric type\n",
    "        difference  - string, delta or delta percentage\n",
    "    Returns:\n",
    "        result - a number\n",
    "    '''\n",
    "\n",
    "    if treat_flight not in np.unique(data['flight']) or \\\n",
    "        control_flight not in np.unique(data['flight']):\n",
    "        raise ValueError('treat_flight/cotrol_flight not in data[flight]')\n",
    "    #print((data['flight'] == 'treat_flight'))\n",
    "    out = compute_flight_metric(data, \n",
    "                                (data['flight'] == treat_flight) | (data['flight'] == control_flight), \n",
    "                                metric_type = metric_type)\n",
    "    treated = float(out.loc[out['flight'] == treat_flight, 'metric ' + metric_type])\n",
    "    control = float(out.loc[out['flight'] == control_flight, 'metric ' + metric_type])\n",
    "    if difference == 'delta':\n",
    "        return treated - control\n",
    "    elif difference == 'delta percentage':\n",
    "        return treated / control - 1\n",
    "def jackknife_continuous_analysis(data, \n",
    "                                block_len,\n",
    "                                treat_flight,\n",
    "                                control_flight,\n",
    "                                metric_type = 'single average',\n",
    "                                difference = 'delta'):\n",
    "    '''\n",
    "    Compute the jackknife continuous analysis\n",
    "    Args:\n",
    "        data   - dataframe\n",
    "        block_len - int, length of the block\n",
    "        treat_flight - string, treat flight name\n",
    "        control_flight - string, control flight name\n",
    "        metric_type - string, the metric type\n",
    "        difference  - string, delta or delta percentage\n",
    "    Returns:\n",
    "        result - a number\n",
    "    '''\n",
    "    filtered = data[(data['flight'] == treat_flight) | (data['flight'] == control_flight)]\n",
    "    naive = naive_continuous_analysis(filtered, \n",
    "                                      treat_flight = treat_flight, \n",
    "                                      control_flight = control_flight, \n",
    "                                      metric_type=metric_type, \n",
    "                                      difference=difference)\n",
    "    jackknifed = []\n",
    "    for i in range(min(data['Segment']), max(data['Segment']) - block_len + 2):\n",
    "        out = compute_flight_metric(filtered, \n",
    "                                    (filtered['Segment'] < i) | (filtered['Segment'] >= i + block_len),\n",
    "                                    metric_type = metric_type)\n",
    "        treated = float(out.loc[out['flight'] == treat_flight, 'metric ' + metric_type])\n",
    "        control = float(out.loc[out['flight'] == control_flight, 'metric ' + metric_type])\n",
    "        if difference == 'delta':\n",
    "            jackknifed.append(treated - control)\n",
    "        elif difference == 'delta percentage':\n",
    "            jackknifed.append(treated / control - 1)\n",
    "        else:\n",
    "            raise ValueError('difference (%s) is not allowed.'%difference)\n",
    "    if (max(data['Segment']) + 1 - min(data['Segment']))%block_len != 0:\n",
    "        raise ValueError('block_len (%d) should divide the range of the experiment (%d, %d).'%(block_len, max(data['Segment']), min(data['Segment'])))\n",
    "    stepsize = (max(data['Segment']) + 1 - min(data['Segment']))/block_len - 1\n",
    "    return (naive - (np.mean(jackknifed) - naive) * stepsize)\n",
    "\n",
    "def block_bootstrap_continuous_analysis(data, \n",
    "                                        treat_flight,\n",
    "                                        control_flight,\n",
    "                                        block = 1,\n",
    "                                        metric_type = 'single average',\n",
    "                                        difference = 'delta',\n",
    "                                        repeat = 10):\n",
    "    '''\n",
    "    Compute the jackknife continuous analysis\n",
    "    Args:\n",
    "        data   - dataframe\n",
    "        block_len - int, length of the block\n",
    "        treat_flight - string, treat flight name\n",
    "        control_flight - string, control flight name\n",
    "        block - number, size of a block\n",
    "        metric_type - string, the metric type\n",
    "        difference  - string, delta or delta percentage\n",
    "        repeat - string, number of bootstrap samples\n",
    "    Returns:\n",
    "        result - a number\n",
    "    '''\n",
    "    days = np.arange(min(data['Segment']), max(data['Segment'])+1)\n",
    "    naive = naive_continuous_analysis(data, \n",
    "                                      treat_flight = treat_flight, \n",
    "                                      control_flight = control_flight, \n",
    "                                      metric_type=metric_type, \n",
    "                                      difference=difference)\n",
    "    tmp = []\n",
    "    for _ in range(repeat):\n",
    "        heads = sorted(np.array([x + np.arange(block) for x in np.random.choice(days[0:(len(days) - block + 1)], len(days)//block)]).flatten())\n",
    "        bootstrapping_day = pd.DataFrame({'Segment':heads, 'NewSeg':np.arange(len(heads))})\n",
    "        bootstrapping_data = pd.merge(bootstrapping_day, data, on='Segment')\n",
    "        bootstrapping_data['Segment'] = bootstrapping_data['NewSeg']\n",
    "        tmp.append(naive_continuous_analysis(bootstrapping_data, \n",
    "                                             treat_flight = treat_flight, \n",
    "                                             control_flight = control_flight, \n",
    "                                             metric_type=metric_type,\n",
    "                                             difference=difference))\n",
    "    return (naive * 2 - np.mean(tmp))\n",
    "\n",
    "def block_bootstrap_fixed_analysis(data, \n",
    "                                   admission,\n",
    "                                   observation,\n",
    "                                   treat_flight,\n",
    "                                   control_flight,\n",
    "                                   block = 1,\n",
    "                                   metric_type = 'single average',\n",
    "                                   difference = 'delta',\n",
    "                                   repeat = 10):\n",
    "    '''\n",
    "    Compute the bootstrap continuous analysis\n",
    "    Args:\n",
    "        data   - dataframe\n",
    "        admission - int, admission period\n",
    "        observation - int, observation period\n",
    "        block - int, length of the block\n",
    "        treat_flight - string, treat flight name\n",
    "        control_flight - string, control flight name\n",
    "        block - number, size of a block\n",
    "        metric_type - string, the metric type\n",
    "        difference  - string, delta or delta percentage\n",
    "        repeat - string, number of bootstrap samples\n",
    "    Returns:\n",
    "        result - a number\n",
    "    '''\n",
    "    days = np.arange(min(data['Segment']), max(data['Segment'])+1)\n",
    "    naive = naive_fixed_duration_analysis(data, \n",
    "                                          observation = observation,\n",
    "                                          admission = admission,\n",
    "                                          treat_flight = treat_flight, \n",
    "                                          control_flight = control_flight, \n",
    "                                          metric_type=metric_type, \n",
    "                                          difference=difference)\n",
    "    tmp = []\n",
    "    for _ in range(repeat):\n",
    "        heads = sorted(np.array([x + np.arange(block) for x in np.random.choice(days[0:(len(days) - block + 1)], len(days)//block)]).flatten())\n",
    "        bootstrapping_day = pd.DataFrame({'Segment':heads, 'NewSeg':np.arange(len(heads))})\n",
    "        bootstrapping_data = pd.merge(bootstrapping_day, data, on='Segment')\n",
    "        bootstrapping_data['Segment'] = bootstrapping_data['NewSeg']\n",
    "        tmp.append(naive_fixed_duration_analysis(bootstrapping_data, \n",
    "                                                 admission = admission,\n",
    "                                                 observation = observation,\n",
    "                                                 treat_flight = treat_flight, \n",
    "                                                 control_flight = control_flight, \n",
    "                                                 metric_type=metric_type, \n",
    "                                                 difference=difference))\n",
    "    return (naive * 2 - np.mean(tmp))"
   ]
  },
  {
   "cell_type": "markdown",
   "metadata": {},
   "source": [
    "## Simulation Definition"
   ]
  },
  {
   "cell_type": "markdown",
   "metadata": {},
   "source": [
    "### Data Simulation 1"
   ]
  },
  {
   "cell_type": "code",
   "execution_count": 4,
   "metadata": {
    "ExecuteTime": {
     "end_time": "2021-01-22T14:27:33.611475Z",
     "start_time": "2021-01-22T14:27:33.607080Z"
    }
   },
   "outputs": [],
   "source": [
    "def sim_user_outcome_1(num_days, freq_dist, treat_name, control_name, num_people):\n",
    "    ''' Simualte a user outcome\n",
    "    '''\n",
    "    raw = []\n",
    "    # generate treatment\n",
    "    for i in range(num_people):\n",
    "        pi = np.random.choice(freq_dist)\n",
    "        for j in range(num_days):\n",
    "            if np.random.rand() < pi:\n",
    "                raw.append([j, i, treat_name, 1 + pi * 1 + np.random.normal(scale=.01)])\n",
    "    # generate control\n",
    "    for i in range(num_people, 2 * num_people):\n",
    "        pi = np.random.choice(freq_dist)\n",
    "        for j in range(num_days):\n",
    "            if np.random.rand() < pi:\n",
    "                raw.append([j, i, control_name, 1 + np.random.normal(scale=.01)])\n",
    "    data = pd.DataFrame(columns=['Segment', 'RAWMUID', 'flight', 'metric'], data=raw)\n",
    "    return(data)"
   ]
  },
  {
   "cell_type": "markdown",
   "metadata": {},
   "source": [
    "### Data Simulation 2"
   ]
  },
  {
   "cell_type": "code",
   "execution_count": 5,
   "metadata": {
    "ExecuteTime": {
     "end_time": "2021-01-22T14:27:33.617757Z",
     "start_time": "2021-01-22T14:27:33.612847Z"
    }
   },
   "outputs": [],
   "source": [
    "def sim_user_outcome_2(num_days, freq_dist, treat_name, control_name, num_people):\n",
    "    ''' Simualte a user outcome\n",
    "    '''\n",
    "    raw = []\n",
    "    # generate treatment\n",
    "    for i in range(num_people):\n",
    "        pi = np.random.choice(freq_dist)\n",
    "        used_days = 0\n",
    "        for j in range(num_days):\n",
    "            if np.random.rand() < pi:\n",
    "                used_days += 1\n",
    "                raw.append([j, i, treat_name, 1 + pi * (1 + 1/(10 * used_days)) + np.random.normal(scale=.01)])\n",
    "    # generate control\n",
    "    for i in range(num_people, 2 * num_people):\n",
    "        pi = np.random.choice(freq_dist)\n",
    "        for j in range(num_days):\n",
    "            if np.random.rand() < pi:\n",
    "                raw.append([j, i, control_name, 1 + np.random.normal(scale=.01)])\n",
    "    data = pd.DataFrame(columns=['Segment', 'RAWMUID', 'flight', 'metric'], data=raw)\n",
    "    return(data)"
   ]
  },
  {
   "cell_type": "markdown",
   "metadata": {},
   "source": [
    "### Simulation Function: sim=1 for user outcome 1, sim=2 for user outcome 2"
   ]
  },
  {
   "cell_type": "code",
   "execution_count": 6,
   "metadata": {
    "ExecuteTime": {
     "end_time": "2021-01-22T14:27:33.628653Z",
     "start_time": "2021-01-22T14:27:33.621408Z"
    }
   },
   "outputs": [],
   "source": [
    "def simulate(sim=1, random_seed=42, num_sim=100, k=14, truth=1/3, dist_size = 1000, difference='delta', metric_type='single average'):\n",
    "    # set global np random seed\n",
    "    np.random.seed(random_seed)\n",
    "    \n",
    "    naive = []\n",
    "    jackknife_est = []\n",
    "    bootstrap = []\n",
    "    for trial in range(num_sim):\n",
    "        if sim == 1:\n",
    "            data = sim_user_outcome_1(k, np.random.uniform(size = (dist_size,)), 'T', 'C', dist_size)\n",
    "        elif sim==2:\n",
    "            data = sim_user_outcome_2(k, np.random.uniform(size = (dist_size,)), 'T', 'C', dist_size)\n",
    "        # experiment naive\n",
    "        naive.append(naive_continuous_analysis(data, 'T', 'C', difference=difference, metric_type=metric_type) - truth)\n",
    "        # jackknifed\n",
    "        jackknife_est.append(jackknife_continuous_analysis(data, \n",
    "                                              block_len=1, \n",
    "                                              treat_flight='T', \n",
    "                                              control_flight='C', \n",
    "                                              metric_type=metric_type,\n",
    "                                              difference=difference) - truth)\n",
    "        # bootstrap\n",
    "        bootstrap.append(block_bootstrap_continuous_analysis(data, 'T', 'C', difference=difference, metric_type=metric_type) - truth)\n",
    "    \n",
    "        \n",
    "    plt.boxplot([naive, jackknife_est, bootstrap], labels=['original', 'jackknife', 'bootstrap'])\n",
    "    print('continuous analysis : %.4f(%.4f)'%(np.mean(naive), np.std(naive)/len(naive)**.5)) # continuous analysis mean\n",
    "    print('jackknife analysis : %.4f(%.4f)'%(np.mean(jackknife_est), np.std(jackknife_est)/len(jackknife_est)**.5)) # jackknife mean\n",
    "    print('bootstrap analysis : %.4f(%.4f)'%(np.mean(bootstrap), np.std(bootstrap)/len(bootstrap) ** .5))\n",
    "    print('paired t-test of naive and jackknifed estimate: statistic %.4f, p-value %f' %(stats.ttest_rel(naive, jackknife_est)))\n",
    "    print('paired t-test of bootstrapped and jackknifed estimate: statistic %.4f, p-value %f' %(stats.ttest_rel(bootstrap, jackknife_est)))\n",
    "    return np.mean(naive), np.mean(jackknife_est), np.mean(bootstrap), stats.ttest_rel(naive, jackknife_est), stats.ttest_rel(bootstrap, jackknife_est)"
   ]
  },
  {
   "cell_type": "markdown",
   "metadata": {},
   "source": [
    "## Simulation 1"
   ]
  },
  {
   "cell_type": "code",
   "execution_count": 7,
   "metadata": {
    "ExecuteTime": {
     "end_time": "2021-01-22T14:27:35.545500Z",
     "start_time": "2021-01-22T14:27:33.631718Z"
    }
   },
   "outputs": [
    {
     "name": "stdout",
     "output_type": "stream",
     "text": [
      "continuous analysis : 0.0213(0.0056)\n",
      "jackknife analysis : -0.0012(0.0089)\n",
      "bootstrap analysis : 0.0072(0.0068)\n",
      "paired t-test of naive and jackknifed estimate: statistic 5.9502, p-value 0.004003\n",
      "paired t-test of bootstrapped and jackknifed estimate: statistic 2.4743, p-value 0.068631\n"
     ]
    },
    {
     "data": {
      "text/plain": [
       "(0.021347951608021352,\n",
       " -0.0011599234346801324,\n",
       " 0.007218002660790801,\n",
       " Ttest_relResult(statistic=5.950222152538133, pvalue=0.004002832051419723),\n",
       " Ttest_relResult(statistic=2.474273018187518, pvalue=0.06863131885705898))"
      ]
     },
     "execution_count": 7,
     "metadata": {},
     "output_type": "execute_result"
    },
    {
     "data": {
      "image/png": "[encoded data removed]",
      "text/plain": [
       "<Figure size 432x288 with 1 Axes>"
      ]
     },
     "metadata": {
      "needs_background": "light"
     },
     "output_type": "display_data"
    }
   ],
   "source": [
    "simulate(sim=1, num_sim=5)"
   ]
  },
  {
   "cell_type": "markdown",
   "metadata": {},
   "source": [
    "## Simulation 2"
   ]
  },
  {
   "cell_type": "code",
   "execution_count": 8,
   "metadata": {
    "ExecuteTime": {
     "end_time": "2021-01-22T14:28:12.446163Z",
     "start_time": "2021-01-22T14:27:35.546964Z"
    }
   },
   "outputs": [
    {
     "name": "stdout",
     "output_type": "stream",
     "text": [
      "continuous analysis : 0.0316(0.0021)\n",
      "jackknife analysis : 0.0069(0.0025)\n",
      "bootstrap analysis : 0.0170(0.0023)\n",
      "paired t-test of naive and jackknifed estimate: statistic 29.3407, p-value 0.000000\n",
      "paired t-test of bootstrapped and jackknifed estimate: statistic 16.0230, p-value 0.000000\n"
     ]
    },
    {
     "data": {
      "text/plain": [
       "(0.03159251693720402,\n",
       " 0.006867044262368987,\n",
       " 0.016959042040094286,\n",
       " Ttest_relResult(statistic=29.34074269887496, pvalue=1.2313786568702372e-50),\n",
       " Ttest_relResult(statistic=16.023030171794296, pvalue=2.986949056459545e-29))"
      ]
     },
     "execution_count": 8,
     "metadata": {},
     "output_type": "execute_result"
    },
    {
     "data": {
      "image/png": "[encoded data removed]",
      "text/plain": [
       "<Figure size 432x288 with 1 Axes>"
      ]
     },
     "metadata": {
      "needs_background": "light"
     },
     "output_type": "display_data"
    }
   ],
   "source": [
    "simulate(sim=2)"
   ]
  },
  {
   "cell_type": "markdown",
   "metadata": {
    "ExecuteTime": {
     "end_time": "2021-01-17T12:38:55.699859Z",
     "start_time": "2021-01-17T12:38:55.696749Z"
    }
   },
   "source": [
    "## Simulate different seed, distribution size and k combinations"
   ]
  },
  {
   "cell_type": "code",
   "execution_count": 9,
   "metadata": {
    "ExecuteTime": {
     "end_time": "2021-01-22T14:28:12.452628Z",
     "start_time": "2021-01-22T14:28:12.447678Z"
    }
   },
   "outputs": [],
   "source": [
    "def sim_combinations():\n",
    "    seed_list = [1, 42, 420]\n",
    "    dist_list = [500, 1000, 2000]\n",
    "    k_list = [7, 14, 28, 56]\n",
    "    sim_list = [1, 2]\n",
    "    replication_list = [10, 50, 100, 200]\n",
    "    \n",
    "    holder = []\n",
    "    max_iter = len(seed_list) * len(dist_list) * len(k_list) * len(sim_list) * len(replication_list)\n",
    "    counter = 0\n",
    "    for seed in seed_list:\n",
    "        for dist_size in dist_list:\n",
    "            for k in k_list:\n",
    "                for sim in sim_list:\n",
    "                    for replication in replication_list:\n",
    "                        counter += 1\n",
    "                        sim_res = simulate(sim=sim,\n",
    "                                           random_seed=seed,\n",
    "                                           dist_size=dist_size,\n",
    "                                           k=k, num_sim=replication)\n",
    "                        sim_entry = {\n",
    "                            'sim': sim,\n",
    "                            'seed': seed,\n",
    "                            'dist_size': dist_size,\n",
    "                            'k': k,\n",
    "                            'n_rep': replication,\n",
    "                            'naive_mean': sim_res[0],\n",
    "                            'jackknife_mean': sim_res[1],\n",
    "                            'bootstrap_mean': sim_res[2],\n",
    "                            'naive_t_test': sim_res[3],\n",
    "                            'bootstrap_t_test': sim_res[4]\n",
    "                        }\n",
    "                        holder.append(sim_entry)\n",
    "                        clear_output(wait=True)\n",
    "                        print('{}/{} simulations completed.'.format(counter, max_iter))\n",
    "    return holder"
   ]
  },
  {
   "cell_type": "code",
   "execution_count": 10,
   "metadata": {
    "ExecuteTime": {
     "end_time": "2021-01-22T14:28:12.465824Z",
     "start_time": "2021-01-22T14:28:12.454657Z"
    }
   },
   "outputs": [],
   "source": [
    "SIM_PATH = 'combination_results.csv'\n",
    "if os.path.isfile(SIM_PATH):\n",
    "    combination_results = pd.read_csv(SIM_PATH)\n",
    "else:\n",
    "    combination_results = pd.DataFrame(sim_combinations())\n",
    "    combination_results.to_csv('combination_results.csv', index=False)\n",
    "\n",
    "combination_results['naive_t_test_stat'] = combination_results[\n",
    "    'naive_t_test'].apply(lambda x: float(str(x).split('=')[1].split(',')[0]))\n",
    "combination_results['naive_t_test_p_val'] = combination_results[\n",
    "    'naive_t_test'].apply(lambda x: float(str(x).split('=')[2].split(')')[0]))\n",
    "combination_results['bootstrap_t_test_stat'] = combination_results[\n",
    "    'bootstrap_t_test'].apply(lambda x: float(str(x).split('=')[1].split(',')[0]))\n",
    "combination_results['bootstrap_t_test_p_val'] = combination_results[\n",
    "    'bootstrap_t_test'].apply(lambda x: float(str(x).split('=')[2].split(')')[0]))"
   ]
  },
  {
   "cell_type": "markdown",
   "metadata": {
    "ExecuteTime": {
     "end_time": "2021-01-18T17:57:33.042098Z",
     "start_time": "2021-01-18T17:57:33.034926Z"
    }
   },
   "source": [
    "## Analysis of different combinations"
   ]
  },
  {
   "cell_type": "markdown",
   "metadata": {},
   "source": [
    "### Plot distribution of t-test statistics"
   ]
  },
  {
   "cell_type": "code",
   "execution_count": 19,
   "metadata": {
    "ExecuteTime": {
     "end_time": "2021-01-22T14:37:10.308320Z",
     "start_time": "2021-01-22T14:37:10.296593Z"
    }
   },
   "outputs": [
    {
     "data": {
      "text/plain": [
       "count    288.000000\n",
       "mean      25.263523\n",
       "std       18.720544\n",
       "min        1.720237\n",
       "25%       12.184113\n",
       "50%       19.852962\n",
       "75%       32.246772\n",
       "max      100.467876\n",
       "Name: naive_t_test_stat, dtype: float64"
      ]
     },
     "metadata": {},
     "output_type": "display_data"
    },
    {
     "data": {
      "text/plain": [
       "count    288.000000\n",
       "mean      13.597851\n",
       "std        8.937014\n",
       "min        1.217293\n",
       "25%        7.018184\n",
       "50%       11.625915\n",
       "75%       18.326307\n",
       "max       41.950180\n",
       "Name: bootstrap_t_test_stat, dtype: float64"
      ]
     },
     "metadata": {},
     "output_type": "display_data"
    }
   ],
   "source": [
    "naive_stat = combination_results['naive_t_test_stat']\n",
    "display(naive_stat.describe())\n",
    "bootstrap_stat = combination_results['bootstrap_t_test_stat']\n",
    "display(bootstrap_stat.describe())"
   ]
  },
  {
   "cell_type": "code",
   "execution_count": 12,
   "metadata": {
    "ExecuteTime": {
     "end_time": "2021-01-22T14:28:12.750021Z",
     "start_time": "2021-01-22T14:28:12.471870Z"
    }
   },
   "outputs": [
    {
     "data": {
      "image/png": "[encoded data removed]",
      "text/plain": [
       "<Figure size 720x288 with 2 Axes>"
      ]
     },
     "metadata": {
      "needs_background": "light"
     },
     "output_type": "display_data"
    }
   ],
   "source": [
    "fig, (ax1, ax2) = plt.subplots(1, 2, figsize=(10, 4))\n",
    "fig.suptitle('Distribution of t-test statistics',fontsize=16)\n",
    "ax1.hist(naive_stat, bins='auto')\n",
    "ax1.set_xlabel('t-test statistics')\n",
    "ax1.set_title('Jackknife vs. Naive Estimator')\n",
    "ax2.hist(bootstrap_stat, bins='auto')\n",
    "ax2.set_xlabel('t-test statistics')\n",
    "ax2.set_title('Jackknife vs. Bootstrap Estimator')\n",
    "\n",
    "ax_ylims=[]\n",
    "ax_ylims.append(ax1.get_ylim())\n",
    "ax_ylims.append(ax2.get_ylim())\n",
    "max_y_lim = np.max(ax_ylims)\n",
    "\n",
    "ax1.set_ylim(0, max_y_lim + 10)\n",
    "ax2.set_ylim(0, max_y_lim + 10)\n",
    "\n",
    "plt.tight_layout()\n",
    "plt.show()"
   ]
  },
  {
   "cell_type": "markdown",
   "metadata": {},
   "source": [
    "### Plot top 5 most and least significant combinations"
   ]
  },
  {
   "cell_type": "code",
   "execution_count": 13,
   "metadata": {
    "ExecuteTime": {
     "end_time": "2021-01-22T14:28:12.755661Z",
     "start_time": "2021-01-22T14:28:12.751615Z"
    }
   },
   "outputs": [],
   "source": [
    "def add_value_labels(ax, spacing=5):\n",
    "    \"\"\"Add labels to the end of each bar in a bar chart.\n",
    "\n",
    "    Arguments:\n",
    "        ax (matplotlib.axes.Axes): The matplotlib object containing the axes\n",
    "            of the plot to annotate.\n",
    "        spacing (int): The distance between the labels and the bars.\n",
    "    \"\"\"\n",
    "\n",
    "    # For each bar: Place a label\n",
    "    for rect in ax.patches:\n",
    "        # Get X and Y placement of label from rect.\n",
    "        y_value = rect.get_height()\n",
    "        x_value = rect.get_x() + rect.get_width() / 2\n",
    "\n",
    "        # Number of points between bar and label. Change to your liking.\n",
    "        space = spacing\n",
    "        # Vertical alignment for positive values\n",
    "        va = 'bottom'\n",
    "\n",
    "        # If value of bar is negative: Place label below bar\n",
    "        if y_value < 0:\n",
    "            # Invert space to place label below\n",
    "            space *= -1\n",
    "            # Vertically align label at top\n",
    "            va = 'top'\n",
    "\n",
    "        # Use Y value as label and format number with one decimal place\n",
    "        label = \"{:.3f}\".format(y_value)\n",
    "\n",
    "        # Create annotation\n",
    "        ax.annotate(\n",
    "            label,                      # Use `label` as label\n",
    "            (x_value, y_value),         # Place label at end of the bar\n",
    "            xytext=(0, space),          # Vertically shift label by `space`\n",
    "            textcoords=\"offset points\", # Interpret `xytext` as offset in points\n",
    "            ha='center',                # Horizontally center label\n",
    "            va=va)                      # Vertically align label differently for\n",
    "                                        # positive and negative values."
   ]
  },
  {
   "cell_type": "code",
   "execution_count": 14,
   "metadata": {
    "ExecuteTime": {
     "end_time": "2021-01-22T14:28:12.761609Z",
     "start_time": "2021-01-22T14:28:12.757604Z"
    }
   },
   "outputs": [],
   "source": [
    "def two_scales(ax1, data1, data2, config, top):\n",
    "    ax2 = ax1.twinx()\n",
    "    ax1.bar([i - 0.2 for i in range(top)],\n",
    "            data1,\n",
    "            tick_label=config,\n",
    "            color='red',\n",
    "            width=0.3,\n",
    "            label='t-test statistics')\n",
    "\n",
    "    ax1.set_ylabel('t-test statistics')\n",
    "    ax1_upper_y = data1.max() + 50\n",
    "    ax1.set_ylim(0, ax1_upper_y)\n",
    "\n",
    "    ax2.bar([i + 0.2 for i in range(top)],\n",
    "            data2,\n",
    "            color='blue',\n",
    "            width=0.3,\n",
    "            label='p-value')\n",
    "    ax2.set_ylabel('p-value')\n",
    "    ax2.set_ylim(0, 0.5)\n",
    "\n",
    "    ax1.tick_params(axis='x', rotation=90)\n",
    "    add_value_labels(ax1)\n",
    "    add_value_labels(ax2)\n",
    "    ax1.legend()\n",
    "    ax2.legend(loc='upper right', bbox_to_anchor=(1, 0.9))\n",
    "    return ax1, ax2\n",
    "\n",
    "##\n"
   ]
  },
  {
   "cell_type": "code",
   "execution_count": 21,
   "metadata": {
    "ExecuteTime": {
     "end_time": "2021-01-22T14:52:33.237789Z",
     "start_time": "2021-01-22T14:52:31.291655Z"
    },
    "scrolled": false
   },
   "outputs": [
    {
     "data": {
      "image/png": "[encoded data removed]",
      "text/plain": [
       "<Figure size 720x576 with 4 Axes>"
      ]
     },
     "metadata": {
      "needs_background": "light"
     },
     "output_type": "display_data"
    },
    {
     "data": {
      "image/png": "[encoded data removed]",
      "text/plain": [
       "<Figure size 720x576 with 4 Axes>"
      ]
     },
     "metadata": {
      "needs_background": "light"
     },
     "output_type": "display_data"
    },
    {
     "data": {
      "image/png": "[encoded data removed]",
      "text/plain": [
       "<Figure size 720x576 with 4 Axes>"
      ]
     },
     "metadata": {
      "needs_background": "light"
     },
     "output_type": "display_data"
    }
   ],
   "source": [
    "def plot_t_test(df, sim=None, mode='most', top=5):\n",
    "    if sim:\n",
    "        title = 'Top {} {} significant simulations with simulation {} data'.format(\n",
    "            top, mode, sim).title()\n",
    "        sel = df[df['sim'] == sim]\n",
    "    else:\n",
    "        title = 'Top {} {} significant simulations for both data models'.format(\n",
    "            top, mode).title()\n",
    "        sel = df\n",
    "    \n",
    "    fig, (ax1, ax2) = plt.subplots(2, 1, figsize=(10, 8))\n",
    "    fig.suptitle(title, fontsize=20)\n",
    "\n",
    "    sel['config'] = 'seed: ' + sel['seed'].astype(str) + '\\ndist: ' + sel[\n",
    "        'dist_size'].astype(str) + '\\nk: ' + sel['k'].astype(\n",
    "            str) + '\\nn_rep: ' + sel['n_rep'].astype(\n",
    "                str) + '\\nsim: ' + sel['sim'].astype(str)\n",
    "\n",
    "    if mode == 'most':\n",
    "        sel = sel.sort_values(by=['naive_t_test_stat'], ascending=False)\n",
    "    elif mode == 'least':\n",
    "        sel = sel.sort_values(by=['naive_t_test_stat'], ascending=True)\n",
    "    top_naive = sel.head(top)\n",
    "    \n",
    "    \n",
    "    if mode == 'most':\n",
    "        sel = sel.sort_values(by=['bootstrap_t_test_stat'], ascending=False)\n",
    "    elif mode == 'least':\n",
    "        sel = sel.sort_values(by=['bootstrap_t_test_stat'], ascending=True)\n",
    "    top_bootstrap = sel.head(top)\n",
    "    \n",
    "    ax1, ax1a = two_scales(ax1, top_naive['naive_t_test_stat'],\n",
    "                           top_naive['naive_t_test_p_val'],\n",
    "                           top_naive['config'], top)\n",
    "    ax1.set_title('Jackknife Estimator vs. Naive Estimator')\n",
    "\n",
    "    ax2, ax2a = two_scales(ax2, top_bootstrap['bootstrap_t_test_stat'],\n",
    "                           top_bootstrap['bootstrap_t_test_p_val'],\n",
    "                           top_bootstrap['config'], top)\n",
    "\n",
    "    ax2.set_title('Jackknife Estimator vs. Bootstrap Estimator')\n",
    "    plt.tight_layout()\n",
    "    plt.show()\n",
    "\n",
    "\n",
    "plot_t_test(combination_results, mode='most')\n",
    "plot_t_test(combination_results, mode='least')\n"
   ]
  },
  {
   "cell_type": "code",
   "execution_count": 22,
   "metadata": {
    "ExecuteTime": {
     "end_time": "2021-01-22T14:55:12.364021Z",
     "start_time": "2021-01-22T14:55:12.360059Z"
    }
   },
   "outputs": [],
   "source": [
    "naive_not_sig = combination_results[(combination_results['naive_t_test_p_val'] > 0.05)]\n",
    "bootstrap_not_sig = combination_results[(combination_results['bootstrap_t_test_p_val'] > 0.05)]"
   ]
  },
  {
   "cell_type": "code",
   "execution_count": 29,
   "metadata": {
    "ExecuteTime": {
     "end_time": "2021-01-22T15:39:20.787765Z",
     "start_time": "2021-01-22T15:39:20.755201Z"
    }
   },
   "outputs": [
    {
     "data": {
      "text/html": [
       "<div>\n",
       "<style scoped>\n",
       "    .dataframe tbody tr th:only-of-type {\n",
       "        vertical-align: middle;\n",
       "    }\n",
       "\n",
       "    .dataframe tbody tr th {\n",
       "        vertical-align: top;\n",
       "    }\n",
       "\n",
       "    .dataframe thead th {\n",
       "        text-align: right;\n",
       "    }\n",
       "</style>\n",
       "<table border=\"1\" class=\"dataframe\">\n",
       "  <thead>\n",
       "    <tr style=\"text-align: right;\">\n",
       "      <th></th>\n",
       "      <th>sim</th>\n",
       "      <th>seed</th>\n",
       "      <th>dist_size</th>\n",
       "      <th>k</th>\n",
       "      <th>n_rep</th>\n",
       "      <th>naive_t_test_stat</th>\n",
       "      <th>bootstrap_t_test_stat</th>\n",
       "      <th>naive_t_test_p_val</th>\n",
       "      <th>bootstrap_t_test_p_val</th>\n",
       "    </tr>\n",
       "  </thead>\n",
       "  <tbody>\n",
       "    <tr>\n",
       "      <th>count</th>\n",
       "      <td>2.000000</td>\n",
       "      <td>2.0</td>\n",
       "      <td>2.0</td>\n",
       "      <td>2.0</td>\n",
       "      <td>2.0</td>\n",
       "      <td>2.000000</td>\n",
       "      <td>2.000000</td>\n",
       "      <td>2.000000</td>\n",
       "      <td>2.000000</td>\n",
       "    </tr>\n",
       "    <tr>\n",
       "      <th>mean</th>\n",
       "      <td>1.500000</td>\n",
       "      <td>1.0</td>\n",
       "      <td>500.0</td>\n",
       "      <td>56.0</td>\n",
       "      <td>10.0</td>\n",
       "      <td>1.734697</td>\n",
       "      <td>1.355940</td>\n",
       "      <td>0.116848</td>\n",
       "      <td>0.208362</td>\n",
       "    </tr>\n",
       "    <tr>\n",
       "      <th>std</th>\n",
       "      <td>0.707107</td>\n",
       "      <td>0.0</td>\n",
       "      <td>0.0</td>\n",
       "      <td>0.0</td>\n",
       "      <td>0.0</td>\n",
       "      <td>0.020450</td>\n",
       "      <td>0.045893</td>\n",
       "      <td>0.003752</td>\n",
       "      <td>0.014063</td>\n",
       "    </tr>\n",
       "    <tr>\n",
       "      <th>min</th>\n",
       "      <td>1.000000</td>\n",
       "      <td>1.0</td>\n",
       "      <td>500.0</td>\n",
       "      <td>56.0</td>\n",
       "      <td>10.0</td>\n",
       "      <td>1.720237</td>\n",
       "      <td>1.323488</td>\n",
       "      <td>0.114195</td>\n",
       "      <td>0.198418</td>\n",
       "    </tr>\n",
       "    <tr>\n",
       "      <th>25%</th>\n",
       "      <td>1.250000</td>\n",
       "      <td>1.0</td>\n",
       "      <td>500.0</td>\n",
       "      <td>56.0</td>\n",
       "      <td>10.0</td>\n",
       "      <td>1.727467</td>\n",
       "      <td>1.339714</td>\n",
       "      <td>0.115522</td>\n",
       "      <td>0.203390</td>\n",
       "    </tr>\n",
       "    <tr>\n",
       "      <th>50%</th>\n",
       "      <td>1.500000</td>\n",
       "      <td>1.0</td>\n",
       "      <td>500.0</td>\n",
       "      <td>56.0</td>\n",
       "      <td>10.0</td>\n",
       "      <td>1.734697</td>\n",
       "      <td>1.355940</td>\n",
       "      <td>0.116848</td>\n",
       "      <td>0.208362</td>\n",
       "    </tr>\n",
       "    <tr>\n",
       "      <th>75%</th>\n",
       "      <td>1.750000</td>\n",
       "      <td>1.0</td>\n",
       "      <td>500.0</td>\n",
       "      <td>56.0</td>\n",
       "      <td>10.0</td>\n",
       "      <td>1.741927</td>\n",
       "      <td>1.372165</td>\n",
       "      <td>0.118175</td>\n",
       "      <td>0.213334</td>\n",
       "    </tr>\n",
       "    <tr>\n",
       "      <th>max</th>\n",
       "      <td>2.000000</td>\n",
       "      <td>1.0</td>\n",
       "      <td>500.0</td>\n",
       "      <td>56.0</td>\n",
       "      <td>10.0</td>\n",
       "      <td>1.749157</td>\n",
       "      <td>1.388391</td>\n",
       "      <td>0.119501</td>\n",
       "      <td>0.218306</td>\n",
       "    </tr>\n",
       "  </tbody>\n",
       "</table>\n",
       "</div>"
      ],
      "text/plain": [
       "            sim  seed  dist_size     k  n_rep  naive_t_test_stat  \\\n",
       "count  2.000000   2.0        2.0   2.0    2.0           2.000000   \n",
       "mean   1.500000   1.0      500.0  56.0   10.0           1.734697   \n",
       "std    0.707107   0.0        0.0   0.0    0.0           0.020450   \n",
       "min    1.000000   1.0      500.0  56.0   10.0           1.720237   \n",
       "25%    1.250000   1.0      500.0  56.0   10.0           1.727467   \n",
       "50%    1.500000   1.0      500.0  56.0   10.0           1.734697   \n",
       "75%    1.750000   1.0      500.0  56.0   10.0           1.741927   \n",
       "max    2.000000   1.0      500.0  56.0   10.0           1.749157   \n",
       "\n",
       "       bootstrap_t_test_stat  naive_t_test_p_val  bootstrap_t_test_p_val  \n",
       "count               2.000000            2.000000                2.000000  \n",
       "mean                1.355940            0.116848                0.208362  \n",
       "std                 0.045893            0.003752                0.014063  \n",
       "min                 1.323488            0.114195                0.198418  \n",
       "25%                 1.339714            0.115522                0.203390  \n",
       "50%                 1.355940            0.116848                0.208362  \n",
       "75%                 1.372165            0.118175                0.213334  \n",
       "max                 1.388391            0.119501                0.218306  "
      ]
     },
     "execution_count": 29,
     "metadata": {},
     "output_type": "execute_result"
    }
   ],
   "source": [
    "naive_not_sig[[\n",
    "    'sim', 'seed', 'dist_size', 'k', 'n_rep', 'naive_t_test_stat',\n",
    "    'bootstrap_t_test_stat', 'naive_t_test_p_val', 'bootstrap_t_test_p_val'\n",
    "]].describe()"
   ]
  },
  {
   "cell_type": "code",
   "execution_count": 30,
   "metadata": {
    "ExecuteTime": {
     "end_time": "2021-01-22T15:39:21.796527Z",
     "start_time": "2021-01-22T15:39:21.763739Z"
    }
   },
   "outputs": [
    {
     "data": {
      "text/html": [
       "<div>\n",
       "<style scoped>\n",
       "    .dataframe tbody tr th:only-of-type {\n",
       "        vertical-align: middle;\n",
       "    }\n",
       "\n",
       "    .dataframe tbody tr th {\n",
       "        vertical-align: top;\n",
       "    }\n",
       "\n",
       "    .dataframe thead th {\n",
       "        text-align: right;\n",
       "    }\n",
       "</style>\n",
       "<table border=\"1\" class=\"dataframe\">\n",
       "  <thead>\n",
       "    <tr style=\"text-align: right;\">\n",
       "      <th></th>\n",
       "      <th>sim</th>\n",
       "      <th>seed</th>\n",
       "      <th>dist_size</th>\n",
       "      <th>k</th>\n",
       "      <th>n_rep</th>\n",
       "      <th>naive_t_test_stat</th>\n",
       "      <th>bootstrap_t_test_stat</th>\n",
       "      <th>naive_t_test_p_val</th>\n",
       "      <th>bootstrap_t_test_p_val</th>\n",
       "    </tr>\n",
       "  </thead>\n",
       "  <tbody>\n",
       "    <tr>\n",
       "      <th>count</th>\n",
       "      <td>11.000000</td>\n",
       "      <td>11.000000</td>\n",
       "      <td>11.000000</td>\n",
       "      <td>11.000000</td>\n",
       "      <td>11.0</td>\n",
       "      <td>11.000000</td>\n",
       "      <td>11.000000</td>\n",
       "      <td>11.000000</td>\n",
       "      <td>11.000000</td>\n",
       "    </tr>\n",
       "    <tr>\n",
       "      <th>mean</th>\n",
       "      <td>1.454545</td>\n",
       "      <td>168.272727</td>\n",
       "      <td>590.909091</td>\n",
       "      <td>48.363636</td>\n",
       "      <td>10.0</td>\n",
       "      <td>3.500081</td>\n",
       "      <td>1.731449</td>\n",
       "      <td>0.024481</td>\n",
       "      <td>0.138557</td>\n",
       "    </tr>\n",
       "    <tr>\n",
       "      <th>std</th>\n",
       "      <td>0.522233</td>\n",
       "      <td>200.296326</td>\n",
       "      <td>202.259959</td>\n",
       "      <td>13.078782</td>\n",
       "      <td>0.0</td>\n",
       "      <td>0.903540</td>\n",
       "      <td>0.416432</td>\n",
       "      <td>0.045707</td>\n",
       "      <td>0.082076</td>\n",
       "    </tr>\n",
       "    <tr>\n",
       "      <th>min</th>\n",
       "      <td>1.000000</td>\n",
       "      <td>1.000000</td>\n",
       "      <td>500.000000</td>\n",
       "      <td>28.000000</td>\n",
       "      <td>10.0</td>\n",
       "      <td>1.720237</td>\n",
       "      <td>1.217293</td>\n",
       "      <td>0.002195</td>\n",
       "      <td>0.050730</td>\n",
       "    </tr>\n",
       "    <tr>\n",
       "      <th>25%</th>\n",
       "      <td>1.000000</td>\n",
       "      <td>21.500000</td>\n",
       "      <td>500.000000</td>\n",
       "      <td>42.000000</td>\n",
       "      <td>10.0</td>\n",
       "      <td>3.507777</td>\n",
       "      <td>1.355940</td>\n",
       "      <td>0.003079</td>\n",
       "      <td>0.062884</td>\n",
       "    </tr>\n",
       "    <tr>\n",
       "      <th>50%</th>\n",
       "      <td>1.000000</td>\n",
       "      <td>42.000000</td>\n",
       "      <td>500.000000</td>\n",
       "      <td>56.000000</td>\n",
       "      <td>10.0</td>\n",
       "      <td>3.850860</td>\n",
       "      <td>1.621697</td>\n",
       "      <td>0.003901</td>\n",
       "      <td>0.139318</td>\n",
       "    </tr>\n",
       "    <tr>\n",
       "      <th>75%</th>\n",
       "      <td>2.000000</td>\n",
       "      <td>420.000000</td>\n",
       "      <td>500.000000</td>\n",
       "      <td>56.000000</td>\n",
       "      <td>10.0</td>\n",
       "      <td>4.006799</td>\n",
       "      <td>2.122229</td>\n",
       "      <td>0.006644</td>\n",
       "      <td>0.208362</td>\n",
       "    </tr>\n",
       "    <tr>\n",
       "      <th>max</th>\n",
       "      <td>2.000000</td>\n",
       "      <td>420.000000</td>\n",
       "      <td>1000.000000</td>\n",
       "      <td>56.000000</td>\n",
       "      <td>10.0</td>\n",
       "      <td>4.233604</td>\n",
       "      <td>2.253284</td>\n",
       "      <td>0.119501</td>\n",
       "      <td>0.254447</td>\n",
       "    </tr>\n",
       "  </tbody>\n",
       "</table>\n",
       "</div>"
      ],
      "text/plain": [
       "             sim        seed    dist_size          k  n_rep  \\\n",
       "count  11.000000   11.000000    11.000000  11.000000   11.0   \n",
       "mean    1.454545  168.272727   590.909091  48.363636   10.0   \n",
       "std     0.522233  200.296326   202.259959  13.078782    0.0   \n",
       "min     1.000000    1.000000   500.000000  28.000000   10.0   \n",
       "25%     1.000000   21.500000   500.000000  42.000000   10.0   \n",
       "50%     1.000000   42.000000   500.000000  56.000000   10.0   \n",
       "75%     2.000000  420.000000   500.000000  56.000000   10.0   \n",
       "max     2.000000  420.000000  1000.000000  56.000000   10.0   \n",
       "\n",
       "       naive_t_test_stat  bootstrap_t_test_stat  naive_t_test_p_val  \\\n",
       "count          11.000000              11.000000           11.000000   \n",
       "mean            3.500081               1.731449            0.024481   \n",
       "std             0.903540               0.416432            0.045707   \n",
       "min             1.720237               1.217293            0.002195   \n",
       "25%             3.507777               1.355940            0.003079   \n",
       "50%             3.850860               1.621697            0.003901   \n",
       "75%             4.006799               2.122229            0.006644   \n",
       "max             4.233604               2.253284            0.119501   \n",
       "\n",
       "       bootstrap_t_test_p_val  \n",
       "count               11.000000  \n",
       "mean                 0.138557  \n",
       "std                  0.082076  \n",
       "min                  0.050730  \n",
       "25%                  0.062884  \n",
       "50%                  0.139318  \n",
       "75%                  0.208362  \n",
       "max                  0.254447  "
      ]
     },
     "execution_count": 30,
     "metadata": {},
     "output_type": "execute_result"
    }
   ],
   "source": [
    "bootstrap_not_sig[[\n",
    "    'sim', 'seed', 'dist_size', 'k', 'n_rep', 'naive_t_test_stat',\n",
    "    'bootstrap_t_test_stat', 'naive_t_test_p_val', 'bootstrap_t_test_p_val'\n",
    "]].describe()"
   ]
  },
  {
   "cell_type": "markdown",
   "metadata": {},
   "source": [
    "### Correlation Analysis"
   ]
  },
  {
   "cell_type": "code",
   "execution_count": 28,
   "metadata": {
    "ExecuteTime": {
     "end_time": "2021-01-22T15:38:56.678963Z",
     "start_time": "2021-01-22T15:38:56.650010Z"
    }
   },
   "outputs": [
    {
     "data": {
      "text/html": [
       "<style  type=\"text/css\" >\n",
       "#T_f06aac14_5cc7_11eb_9d75_3af9d38d9a26row0_col0,#T_f06aac14_5cc7_11eb_9d75_3af9d38d9a26row1_col1,#T_f06aac14_5cc7_11eb_9d75_3af9d38d9a26row2_col2,#T_f06aac14_5cc7_11eb_9d75_3af9d38d9a26row3_col3,#T_f06aac14_5cc7_11eb_9d75_3af9d38d9a26row4_col4,#T_f06aac14_5cc7_11eb_9d75_3af9d38d9a26row5_col5,#T_f06aac14_5cc7_11eb_9d75_3af9d38d9a26row6_col6,#T_f06aac14_5cc7_11eb_9d75_3af9d38d9a26row7_col7,#T_f06aac14_5cc7_11eb_9d75_3af9d38d9a26row8_col8{\n",
       "            background-color:  #b40426;\n",
       "            color:  #f1f1f1;\n",
       "        }#T_f06aac14_5cc7_11eb_9d75_3af9d38d9a26row0_col1,#T_f06aac14_5cc7_11eb_9d75_3af9d38d9a26row2_col1,#T_f06aac14_5cc7_11eb_9d75_3af9d38d9a26row3_col1,#T_f06aac14_5cc7_11eb_9d75_3af9d38d9a26row4_col1{\n",
       "            background-color:  #4c66d6;\n",
       "            color:  #000000;\n",
       "        }#T_f06aac14_5cc7_11eb_9d75_3af9d38d9a26row0_col2,#T_f06aac14_5cc7_11eb_9d75_3af9d38d9a26row1_col2,#T_f06aac14_5cc7_11eb_9d75_3af9d38d9a26row3_col2,#T_f06aac14_5cc7_11eb_9d75_3af9d38d9a26row4_col2{\n",
       "            background-color:  #6485ec;\n",
       "            color:  #000000;\n",
       "        }#T_f06aac14_5cc7_11eb_9d75_3af9d38d9a26row0_col3,#T_f06aac14_5cc7_11eb_9d75_3af9d38d9a26row1_col3,#T_f06aac14_5cc7_11eb_9d75_3af9d38d9a26row2_col3,#T_f06aac14_5cc7_11eb_9d75_3af9d38d9a26row4_col3{\n",
       "            background-color:  #adc9fd;\n",
       "            color:  #000000;\n",
       "        }#T_f06aac14_5cc7_11eb_9d75_3af9d38d9a26row0_col4,#T_f06aac14_5cc7_11eb_9d75_3af9d38d9a26row1_col4,#T_f06aac14_5cc7_11eb_9d75_3af9d38d9a26row2_col4,#T_f06aac14_5cc7_11eb_9d75_3af9d38d9a26row3_col4{\n",
       "            background-color:  #7a9df8;\n",
       "            color:  #000000;\n",
       "        }#T_f06aac14_5cc7_11eb_9d75_3af9d38d9a26row0_col5{\n",
       "            background-color:  #afcafc;\n",
       "            color:  #000000;\n",
       "        }#T_f06aac14_5cc7_11eb_9d75_3af9d38d9a26row0_col6{\n",
       "            background-color:  #abc8fd;\n",
       "            color:  #000000;\n",
       "        }#T_f06aac14_5cc7_11eb_9d75_3af9d38d9a26row0_col7{\n",
       "            background-color:  #5e7de7;\n",
       "            color:  #000000;\n",
       "        }#T_f06aac14_5cc7_11eb_9d75_3af9d38d9a26row0_col8{\n",
       "            background-color:  #84a7fc;\n",
       "            color:  #000000;\n",
       "        }#T_f06aac14_5cc7_11eb_9d75_3af9d38d9a26row1_col0,#T_f06aac14_5cc7_11eb_9d75_3af9d38d9a26row2_col0,#T_f06aac14_5cc7_11eb_9d75_3af9d38d9a26row3_col0,#T_f06aac14_5cc7_11eb_9d75_3af9d38d9a26row3_col5,#T_f06aac14_5cc7_11eb_9d75_3af9d38d9a26row3_col6,#T_f06aac14_5cc7_11eb_9d75_3af9d38d9a26row4_col0,#T_f06aac14_5cc7_11eb_9d75_3af9d38d9a26row5_col3,#T_f06aac14_5cc7_11eb_9d75_3af9d38d9a26row6_col7,#T_f06aac14_5cc7_11eb_9d75_3af9d38d9a26row6_col8,#T_f06aac14_5cc7_11eb_9d75_3af9d38d9a26row7_col0,#T_f06aac14_5cc7_11eb_9d75_3af9d38d9a26row7_col1,#T_f06aac14_5cc7_11eb_9d75_3af9d38d9a26row8_col0,#T_f06aac14_5cc7_11eb_9d75_3af9d38d9a26row8_col2,#T_f06aac14_5cc7_11eb_9d75_3af9d38d9a26row8_col4{\n",
       "            background-color:  #3b4cc0;\n",
       "            color:  #f1f1f1;\n",
       "        }#T_f06aac14_5cc7_11eb_9d75_3af9d38d9a26row1_col5{\n",
       "            background-color:  #b3cdfb;\n",
       "            color:  #000000;\n",
       "        }#T_f06aac14_5cc7_11eb_9d75_3af9d38d9a26row1_col6{\n",
       "            background-color:  #a7c5fe;\n",
       "            color:  #000000;\n",
       "        }#T_f06aac14_5cc7_11eb_9d75_3af9d38d9a26row1_col7{\n",
       "            background-color:  #4e68d8;\n",
       "            color:  #000000;\n",
       "        }#T_f06aac14_5cc7_11eb_9d75_3af9d38d9a26row1_col8{\n",
       "            background-color:  #8db0fe;\n",
       "            color:  #000000;\n",
       "        }#T_f06aac14_5cc7_11eb_9d75_3af9d38d9a26row2_col5{\n",
       "            background-color:  #f2cab5;\n",
       "            color:  #000000;\n",
       "        }#T_f06aac14_5cc7_11eb_9d75_3af9d38d9a26row2_col6{\n",
       "            background-color:  #efcfbf;\n",
       "            color:  #000000;\n",
       "        }#T_f06aac14_5cc7_11eb_9d75_3af9d38d9a26row2_col7,#T_f06aac14_5cc7_11eb_9d75_3af9d38d9a26row5_col8{\n",
       "            background-color:  #4358cb;\n",
       "            color:  #f1f1f1;\n",
       "        }#T_f06aac14_5cc7_11eb_9d75_3af9d38d9a26row2_col8{\n",
       "            background-color:  #5a78e4;\n",
       "            color:  #000000;\n",
       "        }#T_f06aac14_5cc7_11eb_9d75_3af9d38d9a26row3_col7{\n",
       "            background-color:  #8caffe;\n",
       "            color:  #000000;\n",
       "        }#T_f06aac14_5cc7_11eb_9d75_3af9d38d9a26row3_col8{\n",
       "            background-color:  #c5d6f2;\n",
       "            color:  #000000;\n",
       "        }#T_f06aac14_5cc7_11eb_9d75_3af9d38d9a26row4_col5{\n",
       "            background-color:  #f6a385;\n",
       "            color:  #000000;\n",
       "        }#T_f06aac14_5cc7_11eb_9d75_3af9d38d9a26row4_col6{\n",
       "            background-color:  #f18f71;\n",
       "            color:  #000000;\n",
       "        }#T_f06aac14_5cc7_11eb_9d75_3af9d38d9a26row4_col7{\n",
       "            background-color:  #4055c8;\n",
       "            color:  #f1f1f1;\n",
       "        }#T_f06aac14_5cc7_11eb_9d75_3af9d38d9a26row4_col8{\n",
       "            background-color:  #445acc;\n",
       "            color:  #f1f1f1;\n",
       "        }#T_f06aac14_5cc7_11eb_9d75_3af9d38d9a26row5_col0{\n",
       "            background-color:  #3f53c6;\n",
       "            color:  #f1f1f1;\n",
       "        }#T_f06aac14_5cc7_11eb_9d75_3af9d38d9a26row5_col1{\n",
       "            background-color:  #5673e0;\n",
       "            color:  #000000;\n",
       "        }#T_f06aac14_5cc7_11eb_9d75_3af9d38d9a26row5_col2{\n",
       "            background-color:  #d7dce3;\n",
       "            color:  #000000;\n",
       "        }#T_f06aac14_5cc7_11eb_9d75_3af9d38d9a26row5_col4{\n",
       "            background-color:  #f7b89c;\n",
       "            color:  #000000;\n",
       "        }#T_f06aac14_5cc7_11eb_9d75_3af9d38d9a26row5_col6,#T_f06aac14_5cc7_11eb_9d75_3af9d38d9a26row6_col5{\n",
       "            background-color:  #bb1b2c;\n",
       "            color:  #f1f1f1;\n",
       "        }#T_f06aac14_5cc7_11eb_9d75_3af9d38d9a26row5_col7,#T_f06aac14_5cc7_11eb_9d75_3af9d38d9a26row6_col0,#T_f06aac14_5cc7_11eb_9d75_3af9d38d9a26row6_col3{\n",
       "            background-color:  #3d50c3;\n",
       "            color:  #f1f1f1;\n",
       "        }#T_f06aac14_5cc7_11eb_9d75_3af9d38d9a26row6_col1{\n",
       "            background-color:  #4a63d3;\n",
       "            color:  #f1f1f1;\n",
       "        }#T_f06aac14_5cc7_11eb_9d75_3af9d38d9a26row6_col2{\n",
       "            background-color:  #cfdaea;\n",
       "            color:  #000000;\n",
       "        }#T_f06aac14_5cc7_11eb_9d75_3af9d38d9a26row6_col4{\n",
       "            background-color:  #f6a283;\n",
       "            color:  #000000;\n",
       "        }#T_f06aac14_5cc7_11eb_9d75_3af9d38d9a26row7_col2{\n",
       "            background-color:  #485fd1;\n",
       "            color:  #f1f1f1;\n",
       "        }#T_f06aac14_5cc7_11eb_9d75_3af9d38d9a26row7_col3{\n",
       "            background-color:  #ccd9ed;\n",
       "            color:  #000000;\n",
       "        }#T_f06aac14_5cc7_11eb_9d75_3af9d38d9a26row7_col4{\n",
       "            background-color:  #5b7ae5;\n",
       "            color:  #000000;\n",
       "        }#T_f06aac14_5cc7_11eb_9d75_3af9d38d9a26row7_col5{\n",
       "            background-color:  #90b2fe;\n",
       "            color:  #000000;\n",
       "        }#T_f06aac14_5cc7_11eb_9d75_3af9d38d9a26row7_col6{\n",
       "            background-color:  #8badfd;\n",
       "            color:  #000000;\n",
       "        }#T_f06aac14_5cc7_11eb_9d75_3af9d38d9a26row7_col8{\n",
       "            background-color:  #f7b497;\n",
       "            color:  #000000;\n",
       "        }#T_f06aac14_5cc7_11eb_9d75_3af9d38d9a26row8_col1{\n",
       "            background-color:  #5875e1;\n",
       "            color:  #000000;\n",
       "        }#T_f06aac14_5cc7_11eb_9d75_3af9d38d9a26row8_col3{\n",
       "            background-color:  #dddcdc;\n",
       "            color:  #000000;\n",
       "        }#T_f06aac14_5cc7_11eb_9d75_3af9d38d9a26row8_col5{\n",
       "            background-color:  #7295f4;\n",
       "            color:  #000000;\n",
       "        }#T_f06aac14_5cc7_11eb_9d75_3af9d38d9a26row8_col6{\n",
       "            background-color:  #6687ed;\n",
       "            color:  #000000;\n",
       "        }#T_f06aac14_5cc7_11eb_9d75_3af9d38d9a26row8_col7{\n",
       "            background-color:  #f5c2aa;\n",
       "            color:  #000000;\n",
       "        }</style><table id=\"T_f06aac14_5cc7_11eb_9d75_3af9d38d9a26\" ><thead>    <tr>        <th class=\"blank level0\" ></th>        <th class=\"col_heading level0 col0\" >sim</th>        <th class=\"col_heading level0 col1\" >seed</th>        <th class=\"col_heading level0 col2\" >dist_size</th>        <th class=\"col_heading level0 col3\" >k</th>        <th class=\"col_heading level0 col4\" >n_rep</th>        <th class=\"col_heading level0 col5\" >naive_t_test_stat</th>        <th class=\"col_heading level0 col6\" >bootstrap_t_test_stat</th>        <th class=\"col_heading level0 col7\" >naive_t_test_p_val</th>        <th class=\"col_heading level0 col8\" >bootstrap_t_test_p_val</th>    </tr></thead><tbody>\n",
       "                <tr>\n",
       "                        <th id=\"T_f06aac14_5cc7_11eb_9d75_3af9d38d9a26level0_row0\" class=\"row_heading level0 row0\" >sim</th>\n",
       "                        <td id=\"T_f06aac14_5cc7_11eb_9d75_3af9d38d9a26row0_col0\" class=\"data row0 col0\" >1.000000</td>\n",
       "                        <td id=\"T_f06aac14_5cc7_11eb_9d75_3af9d38d9a26row0_col1\" class=\"data row0 col1\" >0.000000</td>\n",
       "                        <td id=\"T_f06aac14_5cc7_11eb_9d75_3af9d38d9a26row0_col2\" class=\"data row0 col2\" >-0.000000</td>\n",
       "                        <td id=\"T_f06aac14_5cc7_11eb_9d75_3af9d38d9a26row0_col3\" class=\"data row0 col3\" >0.000000</td>\n",
       "                        <td id=\"T_f06aac14_5cc7_11eb_9d75_3af9d38d9a26row0_col4\" class=\"data row0 col4\" >0.000000</td>\n",
       "                        <td id=\"T_f06aac14_5cc7_11eb_9d75_3af9d38d9a26row0_col5\" class=\"data row0 col5\" >0.014472</td>\n",
       "                        <td id=\"T_f06aac14_5cc7_11eb_9d75_3af9d38d9a26row0_col6\" class=\"data row0 col6\" >0.007206</td>\n",
       "                        <td id=\"T_f06aac14_5cc7_11eb_9d75_3af9d38d9a26row0_col7\" class=\"data row0 col7\" >-0.002392</td>\n",
       "                        <td id=\"T_f06aac14_5cc7_11eb_9d75_3af9d38d9a26row0_col8\" class=\"data row0 col8\" >-0.001938</td>\n",
       "            </tr>\n",
       "            <tr>\n",
       "                        <th id=\"T_f06aac14_5cc7_11eb_9d75_3af9d38d9a26level0_row1\" class=\"row_heading level0 row1\" >seed</th>\n",
       "                        <td id=\"T_f06aac14_5cc7_11eb_9d75_3af9d38d9a26row1_col0\" class=\"data row1 col0\" >0.000000</td>\n",
       "                        <td id=\"T_f06aac14_5cc7_11eb_9d75_3af9d38d9a26row1_col1\" class=\"data row1 col1\" >1.000000</td>\n",
       "                        <td id=\"T_f06aac14_5cc7_11eb_9d75_3af9d38d9a26row1_col2\" class=\"data row1 col2\" >-0.000000</td>\n",
       "                        <td id=\"T_f06aac14_5cc7_11eb_9d75_3af9d38d9a26row1_col3\" class=\"data row1 col3\" >-0.000000</td>\n",
       "                        <td id=\"T_f06aac14_5cc7_11eb_9d75_3af9d38d9a26row1_col4\" class=\"data row1 col4\" >0.000000</td>\n",
       "                        <td id=\"T_f06aac14_5cc7_11eb_9d75_3af9d38d9a26row1_col5\" class=\"data row1 col5\" >0.032919</td>\n",
       "                        <td id=\"T_f06aac14_5cc7_11eb_9d75_3af9d38d9a26row1_col6\" class=\"data row1 col6\" >-0.009745</td>\n",
       "                        <td id=\"T_f06aac14_5cc7_11eb_9d75_3af9d38d9a26row1_col7\" class=\"data row1 col7\" >-0.064081</td>\n",
       "                        <td id=\"T_f06aac14_5cc7_11eb_9d75_3af9d38d9a26row1_col8\" class=\"data row1 col8\" >0.036895</td>\n",
       "            </tr>\n",
       "            <tr>\n",
       "                        <th id=\"T_f06aac14_5cc7_11eb_9d75_3af9d38d9a26level0_row2\" class=\"row_heading level0 row2\" >dist_size</th>\n",
       "                        <td id=\"T_f06aac14_5cc7_11eb_9d75_3af9d38d9a26row2_col0\" class=\"data row2 col0\" >-0.000000</td>\n",
       "                        <td id=\"T_f06aac14_5cc7_11eb_9d75_3af9d38d9a26row2_col1\" class=\"data row2 col1\" >-0.000000</td>\n",
       "                        <td id=\"T_f06aac14_5cc7_11eb_9d75_3af9d38d9a26row2_col2\" class=\"data row2 col2\" >1.000000</td>\n",
       "                        <td id=\"T_f06aac14_5cc7_11eb_9d75_3af9d38d9a26row2_col3\" class=\"data row2 col3\" >-0.000000</td>\n",
       "                        <td id=\"T_f06aac14_5cc7_11eb_9d75_3af9d38d9a26row2_col4\" class=\"data row2 col4\" >0.000000</td>\n",
       "                        <td id=\"T_f06aac14_5cc7_11eb_9d75_3af9d38d9a26row2_col5\" class=\"data row2 col5\" >0.399407</td>\n",
       "                        <td id=\"T_f06aac14_5cc7_11eb_9d75_3af9d38d9a26row2_col6\" class=\"data row2 col6\" >0.366891</td>\n",
       "                        <td id=\"T_f06aac14_5cc7_11eb_9d75_3af9d38d9a26row2_col7\" class=\"data row2 col7\" >-0.103422</td>\n",
       "                        <td id=\"T_f06aac14_5cc7_11eb_9d75_3af9d38d9a26row2_col8\" class=\"data row2 col8\" >-0.154634</td>\n",
       "            </tr>\n",
       "            <tr>\n",
       "                        <th id=\"T_f06aac14_5cc7_11eb_9d75_3af9d38d9a26level0_row3\" class=\"row_heading level0 row3\" >k</th>\n",
       "                        <td id=\"T_f06aac14_5cc7_11eb_9d75_3af9d38d9a26row3_col0\" class=\"data row3 col0\" >0.000000</td>\n",
       "                        <td id=\"T_f06aac14_5cc7_11eb_9d75_3af9d38d9a26row3_col1\" class=\"data row3 col1\" >-0.000000</td>\n",
       "                        <td id=\"T_f06aac14_5cc7_11eb_9d75_3af9d38d9a26row3_col2\" class=\"data row3 col2\" >-0.000000</td>\n",
       "                        <td id=\"T_f06aac14_5cc7_11eb_9d75_3af9d38d9a26row3_col3\" class=\"data row3 col3\" >1.000000</td>\n",
       "                        <td id=\"T_f06aac14_5cc7_11eb_9d75_3af9d38d9a26row3_col4\" class=\"data row3 col4\" >0.000000</td>\n",
       "                        <td id=\"T_f06aac14_5cc7_11eb_9d75_3af9d38d9a26row3_col5\" class=\"data row3 col5\" >-0.516685</td>\n",
       "                        <td id=\"T_f06aac14_5cc7_11eb_9d75_3af9d38d9a26row3_col6\" class=\"data row3 col6\" >-0.501180</td>\n",
       "                        <td id=\"T_f06aac14_5cc7_11eb_9d75_3af9d38d9a26row3_col7\" class=\"data row3 col7\" >0.148485</td>\n",
       "                        <td id=\"T_f06aac14_5cc7_11eb_9d75_3af9d38d9a26row3_col8\" class=\"data row3 col8\" >0.246991</td>\n",
       "            </tr>\n",
       "            <tr>\n",
       "                        <th id=\"T_f06aac14_5cc7_11eb_9d75_3af9d38d9a26level0_row4\" class=\"row_heading level0 row4\" >n_rep</th>\n",
       "                        <td id=\"T_f06aac14_5cc7_11eb_9d75_3af9d38d9a26row4_col0\" class=\"data row4 col0\" >0.000000</td>\n",
       "                        <td id=\"T_f06aac14_5cc7_11eb_9d75_3af9d38d9a26row4_col1\" class=\"data row4 col1\" >0.000000</td>\n",
       "                        <td id=\"T_f06aac14_5cc7_11eb_9d75_3af9d38d9a26row4_col2\" class=\"data row4 col2\" >0.000000</td>\n",
       "                        <td id=\"T_f06aac14_5cc7_11eb_9d75_3af9d38d9a26row4_col3\" class=\"data row4 col3\" >0.000000</td>\n",
       "                        <td id=\"T_f06aac14_5cc7_11eb_9d75_3af9d38d9a26row4_col4\" class=\"data row4 col4\" >1.000000</td>\n",
       "                        <td id=\"T_f06aac14_5cc7_11eb_9d75_3af9d38d9a26row4_col5\" class=\"data row4 col5\" >0.581385</td>\n",
       "                        <td id=\"T_f06aac14_5cc7_11eb_9d75_3af9d38d9a26row4_col6\" class=\"data row4 col6\" >0.661301</td>\n",
       "                        <td id=\"T_f06aac14_5cc7_11eb_9d75_3af9d38d9a26row4_col7\" class=\"data row4 col7\" >-0.111972</td>\n",
       "                        <td id=\"T_f06aac14_5cc7_11eb_9d75_3af9d38d9a26row4_col8\" class=\"data row4 col8\" >-0.246514</td>\n",
       "            </tr>\n",
       "            <tr>\n",
       "                        <th id=\"T_f06aac14_5cc7_11eb_9d75_3af9d38d9a26level0_row5\" class=\"row_heading level0 row5\" >naive_t_test_stat</th>\n",
       "                        <td id=\"T_f06aac14_5cc7_11eb_9d75_3af9d38d9a26row5_col0\" class=\"data row5 col0\" >0.014472</td>\n",
       "                        <td id=\"T_f06aac14_5cc7_11eb_9d75_3af9d38d9a26row5_col1\" class=\"data row5 col1\" >0.032919</td>\n",
       "                        <td id=\"T_f06aac14_5cc7_11eb_9d75_3af9d38d9a26row5_col2\" class=\"data row5 col2\" >0.399407</td>\n",
       "                        <td id=\"T_f06aac14_5cc7_11eb_9d75_3af9d38d9a26row5_col3\" class=\"data row5 col3\" >-0.516685</td>\n",
       "                        <td id=\"T_f06aac14_5cc7_11eb_9d75_3af9d38d9a26row5_col4\" class=\"data row5 col4\" >0.581385</td>\n",
       "                        <td id=\"T_f06aac14_5cc7_11eb_9d75_3af9d38d9a26row5_col5\" class=\"data row5 col5\" >1.000000</td>\n",
       "                        <td id=\"T_f06aac14_5cc7_11eb_9d75_3af9d38d9a26row5_col6\" class=\"data row5 col6\" >0.969121</td>\n",
       "                        <td id=\"T_f06aac14_5cc7_11eb_9d75_3af9d38d9a26row5_col7\" class=\"data row5 col7\" >-0.123271</td>\n",
       "                        <td id=\"T_f06aac14_5cc7_11eb_9d75_3af9d38d9a26row5_col8\" class=\"data row5 col8\" >-0.251127</td>\n",
       "            </tr>\n",
       "            <tr>\n",
       "                        <th id=\"T_f06aac14_5cc7_11eb_9d75_3af9d38d9a26level0_row6\" class=\"row_heading level0 row6\" >bootstrap_t_test_stat</th>\n",
       "                        <td id=\"T_f06aac14_5cc7_11eb_9d75_3af9d38d9a26row6_col0\" class=\"data row6 col0\" >0.007206</td>\n",
       "                        <td id=\"T_f06aac14_5cc7_11eb_9d75_3af9d38d9a26row6_col1\" class=\"data row6 col1\" >-0.009745</td>\n",
       "                        <td id=\"T_f06aac14_5cc7_11eb_9d75_3af9d38d9a26row6_col2\" class=\"data row6 col2\" >0.366891</td>\n",
       "                        <td id=\"T_f06aac14_5cc7_11eb_9d75_3af9d38d9a26row6_col3\" class=\"data row6 col3\" >-0.501180</td>\n",
       "                        <td id=\"T_f06aac14_5cc7_11eb_9d75_3af9d38d9a26row6_col4\" class=\"data row6 col4\" >0.661301</td>\n",
       "                        <td id=\"T_f06aac14_5cc7_11eb_9d75_3af9d38d9a26row6_col5\" class=\"data row6 col5\" >0.969121</td>\n",
       "                        <td id=\"T_f06aac14_5cc7_11eb_9d75_3af9d38d9a26row6_col6\" class=\"data row6 col6\" >1.000000</td>\n",
       "                        <td id=\"T_f06aac14_5cc7_11eb_9d75_3af9d38d9a26row6_col7\" class=\"data row6 col7\" >-0.135274</td>\n",
       "                        <td id=\"T_f06aac14_5cc7_11eb_9d75_3af9d38d9a26row6_col8\" class=\"data row6 col8\" >-0.290638</td>\n",
       "            </tr>\n",
       "            <tr>\n",
       "                        <th id=\"T_f06aac14_5cc7_11eb_9d75_3af9d38d9a26level0_row7\" class=\"row_heading level0 row7\" >naive_t_test_p_val</th>\n",
       "                        <td id=\"T_f06aac14_5cc7_11eb_9d75_3af9d38d9a26row7_col0\" class=\"data row7 col0\" >-0.002392</td>\n",
       "                        <td id=\"T_f06aac14_5cc7_11eb_9d75_3af9d38d9a26row7_col1\" class=\"data row7 col1\" >-0.064081</td>\n",
       "                        <td id=\"T_f06aac14_5cc7_11eb_9d75_3af9d38d9a26row7_col2\" class=\"data row7 col2\" >-0.103422</td>\n",
       "                        <td id=\"T_f06aac14_5cc7_11eb_9d75_3af9d38d9a26row7_col3\" class=\"data row7 col3\" >0.148485</td>\n",
       "                        <td id=\"T_f06aac14_5cc7_11eb_9d75_3af9d38d9a26row7_col4\" class=\"data row7 col4\" >-0.111972</td>\n",
       "                        <td id=\"T_f06aac14_5cc7_11eb_9d75_3af9d38d9a26row7_col5\" class=\"data row7 col5\" >-0.123271</td>\n",
       "                        <td id=\"T_f06aac14_5cc7_11eb_9d75_3af9d38d9a26row7_col6\" class=\"data row7 col6\" >-0.135274</td>\n",
       "                        <td id=\"T_f06aac14_5cc7_11eb_9d75_3af9d38d9a26row7_col7\" class=\"data row7 col7\" >1.000000</td>\n",
       "                        <td id=\"T_f06aac14_5cc7_11eb_9d75_3af9d38d9a26row7_col8\" class=\"data row7 col8\" >0.582704</td>\n",
       "            </tr>\n",
       "            <tr>\n",
       "                        <th id=\"T_f06aac14_5cc7_11eb_9d75_3af9d38d9a26level0_row8\" class=\"row_heading level0 row8\" >bootstrap_t_test_p_val</th>\n",
       "                        <td id=\"T_f06aac14_5cc7_11eb_9d75_3af9d38d9a26row8_col0\" class=\"data row8 col0\" >-0.001938</td>\n",
       "                        <td id=\"T_f06aac14_5cc7_11eb_9d75_3af9d38d9a26row8_col1\" class=\"data row8 col1\" >0.036895</td>\n",
       "                        <td id=\"T_f06aac14_5cc7_11eb_9d75_3af9d38d9a26row8_col2\" class=\"data row8 col2\" >-0.154634</td>\n",
       "                        <td id=\"T_f06aac14_5cc7_11eb_9d75_3af9d38d9a26row8_col3\" class=\"data row8 col3\" >0.246991</td>\n",
       "                        <td id=\"T_f06aac14_5cc7_11eb_9d75_3af9d38d9a26row8_col4\" class=\"data row8 col4\" >-0.246514</td>\n",
       "                        <td id=\"T_f06aac14_5cc7_11eb_9d75_3af9d38d9a26row8_col5\" class=\"data row8 col5\" >-0.251127</td>\n",
       "                        <td id=\"T_f06aac14_5cc7_11eb_9d75_3af9d38d9a26row8_col6\" class=\"data row8 col6\" >-0.290638</td>\n",
       "                        <td id=\"T_f06aac14_5cc7_11eb_9d75_3af9d38d9a26row8_col7\" class=\"data row8 col7\" >0.582704</td>\n",
       "                        <td id=\"T_f06aac14_5cc7_11eb_9d75_3af9d38d9a26row8_col8\" class=\"data row8 col8\" >1.000000</td>\n",
       "            </tr>\n",
       "    </tbody></table>"
      ],
      "text/plain": [
       "<pandas.io.formats.style.Styler at 0x7f7f6affb350>"
      ]
     },
     "execution_count": 28,
     "metadata": {},
     "output_type": "execute_result"
    }
   ],
   "source": [
    "corr_mat = combination_results[['sim', 'seed', 'dist_size', 'k','n_rep', 'naive_t_test_stat', 'bootstrap_t_test_stat', 'naive_t_test_p_val', 'bootstrap_t_test_p_val']].corr()\n",
    "corr_mat.style.background_gradient(cmap='coolwarm')"
   ]
  },
  {
   "cell_type": "code",
   "execution_count": null,
   "metadata": {},
   "outputs": [],
   "source": []
  }
 ],
 "metadata": {
  "kernelspec": {
   "display_name": "Python 3",
   "language": "python",
   "name": "python3"
  },
  "language_info": {
   "codemirror_mode": {
    "name": "ipython",
    "version": 3
   },
   "file_extension": ".py",
   "mimetype": "text/x-python",
   "name": "python",
   "nbconvert_exporter": "python",
   "pygments_lexer": "ipython3",
   "version": "3.7.9"
  }
 },
 "nbformat": 4,
 "nbformat_minor": 2
}
