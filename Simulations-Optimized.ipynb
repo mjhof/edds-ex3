{
 "cells": [
  {
   "cell_type": "markdown",
   "metadata": {},
   "source": [
    "# Simulations"
   ]
  },
  {
   "cell_type": "code",
   "execution_count": 1,
   "metadata": {
    "ExecuteTime": {
     "end_time": "2021-01-02T17:46:08.662662Z",
     "start_time": "2021-01-02T17:46:08.214469Z"
    }
   },
   "outputs": [],
   "source": [
    "import numpy as np\n",
    "import scipy as sp\n",
    "import pandas as pd\n",
    "import matplotlib.pyplot as plt\n",
    "from scipy import stats\n",
    "#import sys\n",
    "#sys.path.append('../')\n",
    "#import src as my\n",
    "#from src.visualization import visualizeX\n",
    "#from src.MarkovModel import MarkovModel\n",
    "#import importlib\n",
    "#importlib.reload(my)\n",
    "#importlib.reload(my.common_stat)\n",
    "#importlib.reload(my.analysis)"
   ]
  },
  {
   "cell_type": "markdown",
   "metadata": {},
   "source": [
    "## Algorithms"
   ]
  },
  {
   "cell_type": "code",
   "execution_count": 2,
   "metadata": {
    "ExecuteTime": {
     "end_time": "2021-01-02T17:46:08.672364Z",
     "start_time": "2021-01-02T17:46:08.665629Z"
    }
   },
   "outputs": [],
   "source": [
    "def compute_flight_metric(data, \n",
    "                            selected_rows = None,\n",
    "                            flight = 'flight',\n",
    "                            muid = 'RAWMUID',\n",
    "                            seg = 'Segment',\n",
    "                            metric = 'metric',\n",
    "                            metric_type = 'single average'):\n",
    "    ''' \n",
    "    compute metric aggregrate for each flight\n",
    "    \n",
    "    Args:\n",
    "        data          - the pandas dataframe [RAWMUID, Segment, flight, metric]    \n",
    "        selected_rows - a series that shows what rows are selected.\n",
    "        flight        - flight column name\n",
    "        muid          - muid column name\n",
    "        seg           - segment column name\n",
    "        metric        - metric column name\n",
    "        metric_type   - string, sum, single average, double average, or proportion\n",
    "    Returns:\n",
    "        out           - dataframe [flight, metric_name]\n",
    "    '''\n",
    "    if flight not in data.columns or \\\n",
    "        muid not in data.columns or \\\n",
    "        seg not in data.columns or \\\n",
    "        metric not in data.columns:\n",
    "        raise ValueError('flight/muid/seg/metric is not found in data.columns')\n",
    "    if selected_rows is not None:\n",
    "        filtered = data[selected_rows]\n",
    "    else:\n",
    "        filtered = data\n",
    "    if metric_type == 'sum':\n",
    "        prepare = filtered.groupby([muid, flight])[metric].sum().reset_index()\n",
    "        out = prepare.groupby(flight)[metric].mean().to_frame('metric sum').reset_index()\n",
    "    elif metric_type == 'single average':\n",
    "        k = len(np.unique(filtered[seg]))\n",
    "        prepare = (filtered.groupby([muid, flight])[metric].sum() / k).reset_index()\n",
    "        out = prepare.groupby(flight)[metric].mean().to_frame('metric single average').reset_index()\n",
    "    elif metric_type == 'double average':\n",
    "        prepare = filtered.groupby([muid, flight])[metric].mean().reset_index()\n",
    "        out = prepare.groupby(flight)[metric].mean().to_frame('metric double average').reset_index()\n",
    "    elif metric_type == 'proportion':\n",
    "        prepare = ((filtered.groupby([muid, flight])[metric].mean() > 0) * 1).reset_index()\n",
    "        out = prepare.groupby(flight)[metric].mean().to_frame('metric proportion').reset_index()\n",
    "    else:\n",
    "        raise ValueError('metric type (%s) not allowed.'%metric_type)\n",
    "    return out"
   ]
  },
  {
   "cell_type": "code",
   "execution_count": 3,
   "metadata": {
    "ExecuteTime": {
     "end_time": "2021-01-02T17:46:08.692681Z",
     "start_time": "2021-01-02T17:46:08.678476Z"
    }
   },
   "outputs": [],
   "source": [
    "def naive_continuous_analysis(data, \n",
    "                              treat_flight,\n",
    "                              control_flight,\n",
    "                              metric_type = 'single average',\n",
    "                              difference = 'delta'):\n",
    "    '''\n",
    "    Compute the naive continuous analysis\n",
    "    Args:\n",
    "        data   - dataframe\n",
    "        treat_flight - string, treat flight name\n",
    "        control_flight - string, control flight name\n",
    "        metric_type - string, the metric type\n",
    "        difference  - string, delta or delta percentage\n",
    "    Returns:\n",
    "        result - a number\n",
    "    '''\n",
    "\n",
    "    if treat_flight not in np.unique(data['flight']) or \\\n",
    "        control_flight not in np.unique(data['flight']):\n",
    "        raise ValueError('treat_flight/cotrol_flight not in data[flight]')\n",
    "    #print((data['flight'] == 'treat_flight'))\n",
    "    out = compute_flight_metric(data, \n",
    "                                (data['flight'] == treat_flight) | (data['flight'] == control_flight), \n",
    "                                metric_type = metric_type)\n",
    "    treated = float(out.loc[out['flight'] == treat_flight, 'metric ' + metric_type])\n",
    "    control = float(out.loc[out['flight'] == control_flight, 'metric ' + metric_type])\n",
    "    if difference == 'delta':\n",
    "        return treated - control\n",
    "    elif difference == 'delta percentage':\n",
    "        return treated / control - 1\n",
    "def jackknife_continuous_analysis(data, \n",
    "                                block_len,\n",
    "                                treat_flight,\n",
    "                                control_flight,\n",
    "                                metric_type = 'single average',\n",
    "                                difference = 'delta'):\n",
    "    '''\n",
    "    Compute the jackknife continuous analysis\n",
    "    Args:\n",
    "        data   - dataframe\n",
    "        block_len - int, length of the block\n",
    "        treat_flight - string, treat flight name\n",
    "        control_flight - string, control flight name\n",
    "        metric_type - string, the metric type\n",
    "        difference  - string, delta or delta percentage\n",
    "    Returns:\n",
    "        result - a number\n",
    "    '''\n",
    "    filtered = data[(data['flight'] == treat_flight) | (data['flight'] == control_flight)]\n",
    "    naive = naive_continuous_analysis(filtered, \n",
    "                                      treat_flight = treat_flight, \n",
    "                                      control_flight = control_flight, \n",
    "                                      metric_type=metric_type, \n",
    "                                      difference=difference)\n",
    "    jackknifed = []\n",
    "    for i in range(min(data['Segment']), max(data['Segment']) - block_len + 2):\n",
    "        out = compute_flight_metric(filtered, \n",
    "                                    (filtered['Segment'] < i) | (filtered['Segment'] >= i + block_len),\n",
    "                                    metric_type = metric_type)\n",
    "        treated = float(out.loc[out['flight'] == treat_flight, 'metric ' + metric_type])\n",
    "        control = float(out.loc[out['flight'] == control_flight, 'metric ' + metric_type])\n",
    "        if difference == 'delta':\n",
    "            jackknifed.append(treated - control)\n",
    "        elif difference == 'delta percentage':\n",
    "            jackknifed.append(treated / control - 1)\n",
    "        else:\n",
    "            raise ValueError('difference (%s) is not allowed.'%difference)\n",
    "    if (max(data['Segment']) + 1 - min(data['Segment']))%block_len != 0:\n",
    "        raise ValueError('block_len (%d) should divide the range of the experiment (%d, %d).'%(block_len, max(data['Segment']), min(data['Segment'])))\n",
    "    stepsize = (max(data['Segment']) + 1 - min(data['Segment']))/block_len - 1\n",
    "    return (naive - (np.mean(jackknifed) - naive) * stepsize)\n",
    "\n",
    "def block_bootstrap_continuous_analysis(data, \n",
    "                                        treat_flight,\n",
    "                                        control_flight,\n",
    "                                        block = 1,\n",
    "                                        metric_type = 'single average',\n",
    "                                        difference = 'delta',\n",
    "                                        repeat = 10):\n",
    "    '''\n",
    "    Compute the jackknife continuous analysis\n",
    "    Args:\n",
    "        data   - dataframe\n",
    "        block_len - int, length of the block\n",
    "        treat_flight - string, treat flight name\n",
    "        control_flight - string, control flight name\n",
    "        block - number, size of a block\n",
    "        metric_type - string, the metric type\n",
    "        difference  - string, delta or delta percentage\n",
    "        repeat - string, number of bootstrap samples\n",
    "    Returns:\n",
    "        result - a number\n",
    "    '''\n",
    "    days = np.arange(min(data['Segment']), max(data['Segment'])+1)\n",
    "    naive = naive_continuous_analysis(data, \n",
    "                                      treat_flight = treat_flight, \n",
    "                                      control_flight = control_flight, \n",
    "                                      metric_type=metric_type, \n",
    "                                      difference=difference)\n",
    "    tmp = []\n",
    "    for _ in range(repeat):\n",
    "        heads = sorted(np.array([x + np.arange(block) for x in np.random.choice(days[0:(len(days) - block + 1)], len(days)//block)]).flatten())\n",
    "        bootstrapping_day = pd.DataFrame({'Segment':heads, 'NewSeg':np.arange(len(heads))})\n",
    "        bootstrapping_data = pd.merge(bootstrapping_day, data, on='Segment')\n",
    "        bootstrapping_data['Segment'] = bootstrapping_data['NewSeg']\n",
    "        tmp.append(naive_continuous_analysis(bootstrapping_data, \n",
    "                                             treat_flight = treat_flight, \n",
    "                                             control_flight = control_flight, \n",
    "                                             metric_type=metric_type,\n",
    "                                             difference=difference))\n",
    "    return (naive * 2 - np.mean(tmp))\n",
    "\n",
    "def block_bootstrap_fixed_analysis(data, \n",
    "                                   admission,\n",
    "                                   observation,\n",
    "                                   treat_flight,\n",
    "                                   control_flight,\n",
    "                                   block = 1,\n",
    "                                   metric_type = 'single average',\n",
    "                                   difference = 'delta',\n",
    "                                   repeat = 10):\n",
    "    '''\n",
    "    Compute the bootstrap continuous analysis\n",
    "    Args:\n",
    "        data   - dataframe\n",
    "        admission - int, admission period\n",
    "        observation - int, observation period\n",
    "        block - int, length of the block\n",
    "        treat_flight - string, treat flight name\n",
    "        control_flight - string, control flight name\n",
    "        block - number, size of a block\n",
    "        metric_type - string, the metric type\n",
    "        difference  - string, delta or delta percentage\n",
    "        repeat - string, number of bootstrap samples\n",
    "    Returns:\n",
    "        result - a number\n",
    "    '''\n",
    "    days = np.arange(min(data['Segment']), max(data['Segment'])+1)\n",
    "    naive = naive_fixed_duration_analysis(data, \n",
    "                                          observation = observation,\n",
    "                                          admission = admission,\n",
    "                                          treat_flight = treat_flight, \n",
    "                                          control_flight = control_flight, \n",
    "                                          metric_type=metric_type, \n",
    "                                          difference=difference)\n",
    "    tmp = []\n",
    "    for _ in range(repeat):\n",
    "        heads = sorted(np.array([x + np.arange(block) for x in np.random.choice(days[0:(len(days) - block + 1)], len(days)//block)]).flatten())\n",
    "        bootstrapping_day = pd.DataFrame({'Segment':heads, 'NewSeg':np.arange(len(heads))})\n",
    "        bootstrapping_data = pd.merge(bootstrapping_day, data, on='Segment')\n",
    "        bootstrapping_data['Segment'] = bootstrapping_data['NewSeg']\n",
    "        tmp.append(naive_fixed_duration_analysis(bootstrapping_data, \n",
    "                                                 admission = admission,\n",
    "                                                 observation = observation,\n",
    "                                                 treat_flight = treat_flight, \n",
    "                                                 control_flight = control_flight, \n",
    "                                                 metric_type=metric_type, \n",
    "                                                 difference=difference))\n",
    "    return (naive * 2 - np.mean(tmp))"
   ]
  },
  {
   "cell_type": "markdown",
   "metadata": {},
   "source": [
    "## Simulation Definition"
   ]
  },
  {
   "cell_type": "markdown",
   "metadata": {},
   "source": [
    "### Data Simulation 1"
   ]
  },
  {
   "cell_type": "code",
   "execution_count": 4,
   "metadata": {
    "ExecuteTime": {
     "end_time": "2021-01-02T17:46:08.698679Z",
     "start_time": "2021-01-02T17:46:08.694351Z"
    }
   },
   "outputs": [],
   "source": [
    "def sim_user_outcome_1(num_days, freq_dist, treat_name, control_name, num_people):\n",
    "    ''' Simualte a user outcome\n",
    "    '''\n",
    "    raw = []\n",
    "    # generate treatment\n",
    "    for i in range(num_people):\n",
    "        pi = np.random.choice(freq_dist)\n",
    "        for j in range(num_days):\n",
    "            if np.random.rand() < pi:\n",
    "                raw.append([j, i, treat_name, 1 + pi * 1 + np.random.normal(scale=.01)])\n",
    "    # generate control\n",
    "    for i in range(num_people, 2 * num_people):\n",
    "        pi = np.random.choice(freq_dist)\n",
    "        for j in range(num_days):\n",
    "            if np.random.rand() < pi:\n",
    "                raw.append([j, i, control_name, 1 + np.random.normal(scale=.01)])\n",
    "    data = pd.DataFrame(columns=['Segment', 'RAWMUID', 'flight', 'metric'], data=raw)\n",
    "    return(data)"
   ]
  },
  {
   "cell_type": "markdown",
   "metadata": {},
   "source": [
    "### Data Simulation 2"
   ]
  },
  {
   "cell_type": "code",
   "execution_count": 5,
   "metadata": {
    "ExecuteTime": {
     "end_time": "2021-01-02T17:46:08.704738Z",
     "start_time": "2021-01-02T17:46:08.700192Z"
    }
   },
   "outputs": [],
   "source": [
    "def sim_user_outcome_2(num_days, freq_dist, treat_name, control_name, num_people):\n",
    "    ''' Simualte a user outcome\n",
    "    '''\n",
    "    raw = []\n",
    "    # generate treatment\n",
    "    for i in range(num_people):\n",
    "        pi = np.random.choice(freq_dist)\n",
    "        used_days = 0\n",
    "        for j in range(num_days):\n",
    "            if np.random.rand() < pi:\n",
    "                used_days += 1\n",
    "                raw.append([j, i, treat_name, 1 + pi * (1 + 1/(10 * used_days)) + np.random.normal(scale=.01)])\n",
    "    # generate control\n",
    "    for i in range(num_people, 2 * num_people):\n",
    "        pi = np.random.choice(freq_dist)\n",
    "        for j in range(num_days):\n",
    "            if np.random.rand() < pi:\n",
    "                raw.append([j, i, control_name, 1 + np.random.normal(scale=.01)])\n",
    "    data = pd.DataFrame(columns=['Segment', 'RAWMUID', 'flight', 'metric'], data=raw)\n",
    "    return(data)"
   ]
  },
  {
   "cell_type": "markdown",
   "metadata": {},
   "source": [
    "### Simulation Function: sim=1 for user outcome 1, sim=2 for user outcome 2"
   ]
  },
  {
   "cell_type": "code",
   "execution_count": 6,
   "metadata": {
    "ExecuteTime": {
     "end_time": "2021-01-02T17:46:08.714498Z",
     "start_time": "2021-01-02T17:46:08.707730Z"
    }
   },
   "outputs": [],
   "source": [
    "def simulate(sim=1, random_seed=42, num_sim=100, k=14, truth=1/3, difference='delta', metric_type='single average'):\n",
    "    # set global np random seed\n",
    "    np.random.seed(random_seed)\n",
    "    \n",
    "    naive = []\n",
    "    jackknife_est = []\n",
    "    bootstrap = []\n",
    "    for trial in range(num_sim):\n",
    "        if sim == 1:\n",
    "            data = sim_user_outcome_1(k, np.random.uniform(size = (1000,)), 'T', 'C', 1000)\n",
    "        elif sim==2:\n",
    "            data = sim_user_outcome_2(k, np.random.uniform(size = (1000,)), 'T', 'C', 1000)\n",
    "        # experiment naive\n",
    "        naive.append(naive_continuous_analysis(data, 'T', 'C', difference=difference, metric_type=metric_type) - truth)\n",
    "        # jackknifed\n",
    "        jackknife_est.append(jackknife_continuous_analysis(data, \n",
    "                                              block_len=1, \n",
    "                                              treat_flight='T', \n",
    "                                              control_flight='C', \n",
    "                                              metric_type=metric_type,\n",
    "                                              difference=difference) - truth)\n",
    "        # bootstrap\n",
    "        bootstrap.append(block_bootstrap_continuous_analysis(data, 'T', 'C', difference=difference, metric_type=metric_type) - truth)\n",
    "    \n",
    "    plt.boxplot([naive, jackknife_est, bootstrap], labels=['original', 'jackknife', 'bootstrap'])\n",
    "    print('continuous analysis : %.4f(%.4f)'%(np.mean(naive), np.std(naive)/len(naive)**.5)) # continuous analysis mean\n",
    "    print('jackknife analysis : %.4f(%.4f)'%(np.mean(jackknife_est), np.std(jackknife_est)/len(jackknife_est)**.5)) # jackknife mean\n",
    "    print('bootstrap analysis : %.4f(%.4f)'%(np.mean(bootstrap), np.std(bootstrap)/len(bootstrap) ** .5))\n",
    "    print('paired t-test of naive and jackknifed estimate: statistic %.4f, p-value %f' %(stats.ttest_rel(naive, jackknife_est)))\n",
    "    print('paired t-test of bootstrapped and jackknifed estimate: statistic %.4f, p-value %f' %(stats.ttest_rel(bootstrap, jackknife_est)))\n",
    "    return np.mean(naive), np.mean(jackknife_est), np.mean(bootstrap)"
   ]
  },
  {
   "cell_type": "markdown",
   "metadata": {},
   "source": [
    "## Simulation 1"
   ]
  },
  {
   "cell_type": "code",
   "execution_count": 7,
   "metadata": {
    "ExecuteTime": {
     "end_time": "2021-01-02T17:46:45.874756Z",
     "start_time": "2021-01-02T17:46:08.716216Z"
    }
   },
   "outputs": [
    {
     "name": "stdout",
     "output_type": "stream",
     "text": [
      "continuous analysis : 0.0211(0.0021)\n",
      "jackknife analysis : -0.0029(0.0025)\n",
      "bootstrap analysis : 0.0068(0.0023)\n",
      "paired t-test of naive and jackknifed estimate: statistic 28.7539, p-value 0.000000\n",
      "paired t-test of bootstrapped and jackknifed estimate: statistic 15.5189, p-value 0.000000\n"
     ]
    },
    {
     "data": {
      "text/plain": [
       "(0.021090313344171187, -0.0029300009928534755, 0.006768365384933909)"
      ]
     },
     "execution_count": 7,
     "metadata": {},
     "output_type": "execute_result"
    },
    {
     "data": {
      "image/png": "[encoded data removed]",
      "text/plain": [
       "<Figure size 432x288 with 1 Axes>"
      ]
     },
     "metadata": {
      "needs_background": "light"
     },
     "output_type": "display_data"
    }
   ],
   "source": [
    "simulate(sim=1)"
   ]
  },
  {
   "cell_type": "markdown",
   "metadata": {},
   "source": [
    "## Simulation 2"
   ]
  },
  {
   "cell_type": "code",
   "execution_count": 8,
   "metadata": {
    "ExecuteTime": {
     "end_time": "2021-01-02T17:47:23.766102Z",
     "start_time": "2021-01-02T17:46:45.876557Z"
    }
   },
   "outputs": [
    {
     "name": "stdout",
     "output_type": "stream",
     "text": [
      "continuous analysis : 0.0316(0.0021)\n",
      "jackknife analysis : 0.0069(0.0025)\n",
      "bootstrap analysis : 0.0170(0.0023)\n",
      "paired t-test of naive and jackknifed estimate: statistic 29.3407, p-value 0.000000\n",
      "paired t-test of bootstrapped and jackknifed estimate: statistic 16.0230, p-value 0.000000\n"
     ]
    },
    {
     "data": {
      "text/plain": [
       "(0.03159251693720402, 0.006867044262368987, 0.016959042040094286)"
      ]
     },
     "execution_count": 8,
     "metadata": {},
     "output_type": "execute_result"
    },
    {
     "data": {
      "image/png": "[encoded data removed]",
      "text/plain": [
       "<Figure size 432x288 with 1 Axes>"
      ]
     },
     "metadata": {
      "needs_background": "light"
     },
     "output_type": "display_data"
    }
   ],
   "source": [
    "simulate(sim=2)"
   ]
  }
 ],
 "metadata": {
  "kernelspec": {
   "display_name": "Python 3",
   "language": "python",
   "name": "python3"
  },
  "language_info": {
   "codemirror_mode": {
    "name": "ipython",
    "version": 3
   },
   "file_extension": ".py",
   "mimetype": "text/x-python",
   "name": "python",
   "nbconvert_exporter": "python",
   "pygments_lexer": "ipython3",
   "version": "3.8.3"
  }
 },
 "nbformat": 4,
 "nbformat_minor": 2
}
